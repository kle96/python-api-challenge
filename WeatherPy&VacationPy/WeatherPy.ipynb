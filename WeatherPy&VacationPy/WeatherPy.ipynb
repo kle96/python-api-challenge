{
 "cells": [
  {
   "cell_type": "markdown",
   "metadata": {},
   "source": [
    "# WeatherPy\n",
    "----\n",
    "\n",
    "#### Note\n",
    "* Instructions have been included for each segment. You do not have to follow them exactly, but they are included to help you think through the steps."
   ]
  },
  {
   "cell_type": "code",
   "execution_count": 78,
   "metadata": {
    "scrolled": true
   },
   "outputs": [],
   "source": [
    "# Dependencies and Setup\n",
    "import matplotlib.pyplot as plt\n",
    "import pandas as pd\n",
    "import numpy as np\n",
    "import requests\n",
    "import time\n",
    "from scipy.stats import linregress\n",
    "from pprint import pprint\n",
    "import os\n",
    "\n",
    "# Import API key\n",
    "from api_keys import weather_api_key\n",
    "\n",
    "# Incorporated citipy to determine city based on latitude and longitude\n",
    "from citipy import citipy\n",
    "\n",
    "# Output File (CSV)\n",
    "output_data_file = \"output_data/cities.csv\"\n",
    "\n",
    "# Range of latitudes and longitudes\n",
    "lat_range = (-90, 90)\n",
    "lng_range = (-180, 180)"
   ]
  },
  {
   "cell_type": "markdown",
   "metadata": {},
   "source": [
    "## Generate Cities List"
   ]
  },
  {
   "cell_type": "code",
   "execution_count": 79,
   "metadata": {},
   "outputs": [
    {
     "data": {
      "text/plain": [
       "593"
      ]
     },
     "execution_count": 79,
     "metadata": {},
     "output_type": "execute_result"
    }
   ],
   "source": [
    "# List for holding lat_lngs and cities\n",
    "lat_lngs = []\n",
    "cities = []\n",
    "\n",
    "# Create a set of random lat and lng combinations\n",
    "lats = np.random.uniform(lat_range[0], lat_range[1], size=1500)\n",
    "lngs = np.random.uniform(lng_range[0], lng_range[1], size=1500)\n",
    "lat_lngs = zip(lats, lngs)\n",
    "\n",
    "# Identify nearest city for each lat, lng combination\n",
    "for lat_lng in lat_lngs:\n",
    "    city = citipy.nearest_city(lat_lng[0], lat_lng[1]).city_name\n",
    "    \n",
    "    # If the city is unique, then add it to a our cities list\n",
    "    if city not in cities:\n",
    "        cities.append(city)\n",
    "\n",
    "# Print the city count to confirm sufficient count\n",
    "len(cities)"
   ]
  },
  {
   "cell_type": "markdown",
   "metadata": {},
   "source": [
    "### Perform API Calls\n",
    "* Perform a weather check on each city using a series of successive API calls.\n",
    "* Include a print log of each city as it'sbeing processed (with the city number and city name).\n"
   ]
  },
  {
   "cell_type": "code",
   "execution_count": 80,
   "metadata": {},
   "outputs": [
    {
     "name": "stdout",
     "output_type": "stream",
     "text": [
      "{'base': 'stations',\n",
      " 'clouds': {'all': 98},\n",
      " 'cod': 200,\n",
      " 'coord': {'lat': -0.7393, 'lon': -90.3518},\n",
      " 'dt': 1661476371,\n",
      " 'id': 3652764,\n",
      " 'main': {'feels_like': 67.26,\n",
      "          'humidity': 93,\n",
      "          'pressure': 1015,\n",
      "          'temp': 66.54,\n",
      "          'temp_max': 66.54,\n",
      "          'temp_min': 66.54},\n",
      " 'name': 'Puerto Ayora',\n",
      " 'sys': {'country': 'EC',\n",
      "         'id': 2005652,\n",
      "         'sunrise': 1661428852,\n",
      "         'sunset': 1661472391,\n",
      "         'type': 2},\n",
      " 'timezone': -21600,\n",
      " 'visibility': 10000,\n",
      " 'weather': [{'description': 'overcast clouds',\n",
      "              'icon': '04n',\n",
      "              'id': 804,\n",
      "              'main': 'Clouds'}],\n",
      " 'wind': {'deg': 150, 'gust': 7, 'speed': 3}}\n"
     ]
    }
   ],
   "source": [
    "test_response = requests.get(f\"http://api.openweathermap.org/data/2.5/weather?appid={weather_api_key}&units=imperial&q={cities[0]}\").json()\n",
    "pprint(test_response)"
   ]
  },
  {
   "cell_type": "code",
   "execution_count": 81,
   "metadata": {},
   "outputs": [
    {
     "name": "stdout",
     "output_type": "stream",
     "text": [
      "'Processing city number 0, puerto ayora'\n",
      "'Processing city number 1, mataura'\n",
      "'Processing city number 2, leh'\n",
      "'Processing city number 3, barrow'\n",
      "'Processing city number 4, acapulco'\n",
      "'Processing city number 5, avarua'\n",
      "'Processing city number 6, tasiilaq'\n",
      "'Processing city number 7, atlantic city'\n",
      "'Processing city number 8, punta arenas'\n",
      "'Processing city number 9, belushya guba'\n",
      "'Processing city number 10, coquimbo'\n",
      "'Processing city number 11, vaini'\n",
      "'Processing city number 12, upernavik'\n",
      "'Processing city number 13, bambous virieux'\n",
      "'Processing city number 14, cape town'\n",
      "'Processing city number 15, tuktoyaktuk'\n",
      "'Processing city number 16, vaitupu'\n",
      "'Processing city number 17, mangrol'\n",
      "'Processing city number 18, rikitea'\n",
      "'Processing city number 19, busselton'\n",
      "'Processing city number 20, klaksvik'\n",
      "'Processing city number 21, yellowknife'\n",
      "'Processing city number 22, vila velha'\n",
      "'Processing city number 23, saint george'\n",
      "'Processing city number 24, saint-augustin'\n",
      "'Processing city number 25, hobart'\n",
      "'Processing city number 26, dikson'\n",
      "'Processing city number 27, yar-sale'\n",
      "'Processing city number 28, alofi'\n",
      "'Processing city number 29, georgetown'\n",
      "'Processing city number 30, lebu'\n",
      "'Processing city number 31, isla vista'\n",
      "'Processing city number 32, ushuaia'\n",
      "'Processing city number 33, ures'\n",
      "'Processing city number 34, honningsvag'\n",
      "'Processing city number 35, bluff'\n",
      "'Processing city number 36, vestbygda'\n",
      "'Processing city number 37, tsihombe'\n",
      "'Processing city number 38, cherskiy'\n",
      "'Processing city number 39, kodiak'\n",
      "'Processing city number 40, keetmanshoop'\n",
      "'Processing city number 41, kavieng'\n",
      "'Processing city number 42, denpasar'\n",
      "'Processing city number 43, cayenne'\n",
      "'Processing city number 44, henties bay'\n",
      "'Processing city number 45, jamestown'\n",
      "'Processing city number 46, longyearbyen'\n",
      "'Processing city number 47, te anau'\n",
      "'Processing city number 48, pangkalanbuun'\n",
      "'Processing city number 49, talnakh'\n",
      "'Processing city number 50, tiznit'\n",
      "'Processing city number 51, atambua'\n",
      "'Processing city number 52, mocuba'\n",
      "'Processing city number 53, adrar'\n",
      "'Processing city number 54, beloit'\n",
      "'Processing city number 55, kapaa'\n",
      "'Processing city number 56, santa ana'\n",
      "'Processing city number 57, rorvik'\n",
      "'Processing city number 58, agirish'\n",
      "'Processing city number 59, turbat'\n",
      "'Processing city number 60, albany'\n",
      "'Processing city number 61, wanning'\n",
      "'Processing city number 62, kruisfontein'\n",
      "'Processing city number 63, illoqqortoormiut'\n",
      "'Processing city number 64, ziro'\n",
      "'Processing city number 65, carnarvon'\n",
      "'Processing city number 66, flinders'\n",
      "'Processing city number 67, tiksi'\n",
      "'Processing city number 68, puerto el triunfo'\n",
      "'Processing city number 69, cagayan de tawi-tawi'\n",
      "'Processing city number 70, arraial do cabo'\n",
      "'Processing city number 71, manta'\n",
      "'Processing city number 72, biak'\n",
      "'Processing city number 73, chuy'\n",
      "'Processing city number 74, south lake tahoe'\n",
      "'Processing city number 75, rio grande'\n",
      "'Processing city number 76, hithadhoo'\n",
      "'Processing city number 77, kalevala'\n",
      "'Processing city number 78, aras'\n",
      "'Processing city number 79, bethel'\n",
      "'Processing city number 80, mount pleasant'\n",
      "'Processing city number 81, viedma'\n",
      "'Processing city number 82, aswan'\n",
      "'Processing city number 83, chulman'\n",
      "'Processing city number 84, castro'\n",
      "'Processing city number 85, lompoc'\n",
      "'Processing city number 86, pevek'\n",
      "'Processing city number 87, atuona'\n",
      "'Processing city number 88, batagay'\n",
      "'Processing city number 89, aklavik'\n",
      "'Processing city number 90, souillac'\n",
      "'Processing city number 91, orocue'\n",
      "'Processing city number 92, hasaki'\n",
      "'Processing city number 93, hauterive'\n",
      "'Processing city number 94, taolanaro'\n",
      "'Processing city number 95, martapura'\n",
      "'Processing city number 96, maniwaki'\n",
      "'Processing city number 97, yefimovskiy'\n",
      "'Processing city number 98, taicheng'\n",
      "'Processing city number 99, haines junction'\n",
      "'Processing city number 100, palana'\n",
      "'Processing city number 101, fort nelson'\n",
      "'Processing city number 102, rawson'\n",
      "'Processing city number 103, saskylakh'\n",
      "'Processing city number 104, saleaula'\n",
      "'Processing city number 105, poso'\n",
      "'Processing city number 106, qaanaaq'\n",
      "'Processing city number 107, dzaoudzi'\n",
      "'Processing city number 108, port arthur'\n",
      "'Processing city number 109, havre-saint-pierre'\n",
      "'Processing city number 110, capaci'\n",
      "'Processing city number 111, ambodifototra'\n",
      "'Processing city number 112, ilulissat'\n",
      "'Processing city number 113, nikolskoye'\n",
      "'Processing city number 114, husavik'\n",
      "'Processing city number 115, tuatapere'\n",
      "'Processing city number 116, hermanus'\n",
      "'Processing city number 117, torbay'\n",
      "'Processing city number 118, cockburn town'\n",
      "'Processing city number 119, sisimiut'\n",
      "'Processing city number 120, bredasdorp'\n",
      "'Processing city number 121, new norfolk'\n",
      "'Processing city number 122, kristiansund'\n",
      "'Processing city number 123, katsuura'\n",
      "'Processing city number 124, mys shmidta'\n",
      "'Processing city number 125, suileng'\n",
      "'Processing city number 126, eyl'\n",
      "'Processing city number 127, amga'\n",
      "'Processing city number 128, sorvag'\n",
      "'Processing city number 129, lavrentiya'\n",
      "'Processing city number 130, paamiut'\n",
      "'Processing city number 131, butaritari'\n",
      "'Processing city number 132, havelock'\n",
      "'Processing city number 133, pisco'\n",
      "'Processing city number 134, vila do maio'\n",
      "'Processing city number 135, marcona'\n",
      "'Processing city number 136, beloha'\n",
      "'Processing city number 137, soro'\n",
      "'Processing city number 138, namibe'\n",
      "'Processing city number 139, cidreira'\n",
      "'Processing city number 140, salalah'\n",
      "'Processing city number 141, attawapiskat'\n",
      "'Processing city number 142, mahaicony'\n",
      "'Processing city number 143, srednekolymsk'\n",
      "'Processing city number 144, moose factory'\n",
      "'Processing city number 145, opuwo'\n",
      "'Processing city number 146, komsomolskiy'\n",
      "'Processing city number 147, tank'\n",
      "'Processing city number 148, bari'\n",
      "'Processing city number 149, sucua'\n",
      "'Processing city number 150, lorengau'\n",
      "'Processing city number 151, omsukchan'\n",
      "'Processing city number 152, ayorou'\n",
      "'Processing city number 153, tuggurt'\n",
      "'Processing city number 154, mantua'\n",
      "'Processing city number 155, sentyabrskiy'\n",
      "'Processing city number 156, bathsheba'\n",
      "'Processing city number 157, port lincoln'\n",
      "'Processing city number 158, leningradskiy'\n",
      "'Processing city number 159, pozo colorado'\n",
      "'Processing city number 160, benicarlo'\n",
      "'Processing city number 161, mpongwe'\n",
      "'Processing city number 162, ribeira grande'\n",
      "'Processing city number 163, davila'\n",
      "'Processing city number 164, namatanai'\n",
      "'Processing city number 165, bonavista'\n",
      "'Processing city number 166, luderitz'\n",
      "'Processing city number 167, victoria'\n",
      "'Processing city number 168, afua'\n",
      "'Processing city number 169, la ronge'\n",
      "'Processing city number 170, sabancuy'\n",
      "'Processing city number 171, port alfred'\n",
      "'Processing city number 172, zary'\n",
      "'Processing city number 173, doha'\n",
      "'Processing city number 174, hilo'\n",
      "'Processing city number 175, port elizabeth'\n",
      "'Processing city number 176, serenje'\n",
      "'Processing city number 177, ballina'\n",
      "'Processing city number 178, kaitangata'\n",
      "'Processing city number 179, san quintin'\n",
      "'Processing city number 180, tumannyy'\n",
      "'Processing city number 181, westpunt'\n",
      "'Processing city number 182, pitimbu'\n",
      "'Processing city number 183, keti bandar'\n",
      "'Processing city number 184, thompson'\n",
      "'Processing city number 185, nishihara'\n",
      "'Processing city number 186, karratha'\n",
      "'Processing city number 187, auxerre'\n",
      "'Processing city number 188, norman wells'\n",
      "'Processing city number 189, shelburne'\n",
      "'Processing city number 190, amderma'\n",
      "'Processing city number 191, keta'\n",
      "'Processing city number 192, barentsburg'\n",
      "'Processing city number 193, jinchang'\n",
      "'Processing city number 194, kahului'\n",
      "'Processing city number 195, itoman'\n",
      "'Processing city number 196, maloshuyka'\n",
      "'Processing city number 197, east london'\n",
      "'Processing city number 198, meulaboh'\n",
      "'Processing city number 199, carballo'\n",
      "'Processing city number 200, narsaq'\n",
      "'Processing city number 201, thinadhoo'\n",
      "'Processing city number 202, chara'\n",
      "'Processing city number 203, dukat'\n",
      "'Processing city number 204, qaqortoq'\n",
      "'Processing city number 205, coihaique'\n",
      "'Processing city number 206, karauzyak'\n",
      "'Processing city number 207, kutum'\n",
      "'Processing city number 208, haapiti'\n",
      "'Processing city number 209, bela vista'\n",
      "'Processing city number 210, severo-kurilsk'\n",
      "'Processing city number 211, halifax'\n",
      "'Processing city number 212, guerrero negro'\n",
      "'Processing city number 213, nakama'\n",
      "'Processing city number 214, praya'\n",
      "'Processing city number 215, stornoway'\n",
      "'Processing city number 216, indianola'\n",
      "'Processing city number 217, tarasovskiy'\n",
      "'Processing city number 218, sinop'\n",
      "'Processing city number 219, saint-philippe'\n",
      "'Processing city number 220, santa cruz del sur'\n",
      "'Processing city number 221, palmer'\n",
      "'Processing city number 222, correntina'\n",
      "'Processing city number 223, warrnambool'\n",
      "'Processing city number 224, marzuq'\n",
      "'Processing city number 225, glasgow'\n",
      "'Processing city number 226, boljarovo'\n",
      "'Processing city number 227, vila franca do campo'\n",
      "'Processing city number 228, axim'\n",
      "'Processing city number 229, mayo'\n",
      "'Processing city number 230, oranjemund'\n",
      "'Processing city number 231, kampene'\n",
      "'Processing city number 232, xiashi'\n",
      "'Processing city number 233, khandyga'\n",
      "'Processing city number 234, kegayli'\n",
      "'Processing city number 235, fuyang'\n",
      "'Processing city number 236, mar del plata'\n",
      "'Processing city number 237, barra patuca'\n",
      "'Processing city number 238, codrington'\n",
      "'Processing city number 239, umm ruwabah'\n",
      "'Processing city number 240, walvis bay'\n",
      "'Processing city number 241, mahebourg'\n",
      "'Processing city number 242, ponta do sol'\n",
      "'Processing city number 243, luwuk'\n",
      "'Processing city number 244, praia da vitoria'\n",
      "'Processing city number 245, port hardy'\n",
      "'Processing city number 246, vestmannaeyjar'\n",
      "'Processing city number 247, armeria'\n",
      "'Processing city number 248, margate'\n",
      "'Processing city number 249, arlit'\n",
      "'Processing city number 250, quelimane'\n",
      "'Processing city number 251, akim swedru'\n",
      "'Processing city number 252, bolisong'\n",
      "'Processing city number 253, kamenka'\n",
      "'Processing city number 254, chernogorsk'\n",
      "'Processing city number 255, sabha'\n",
      "'Processing city number 256, adamas'\n",
      "'Processing city number 257, faanui'\n",
      "'Processing city number 258, rio gallegos'\n",
      "'Processing city number 259, berlevag'\n",
      "'Processing city number 260, kingaroy'\n",
      "'Processing city number 261, mbanza-ngungu'\n",
      "'Processing city number 262, necochea'\n",
      "'Processing city number 263, pachmarhi'\n",
      "'Processing city number 264, pinas'\n",
      "'Processing city number 265, aykhal'\n",
      "'Processing city number 266, xiongzhou'\n",
      "'Processing city number 267, gamba'\n",
      "'Processing city number 268, camopi'\n",
      "'Processing city number 269, sao filipe'\n",
      "'Processing city number 270, ancud'\n",
      "'Processing city number 271, yatou'\n",
      "'Processing city number 272, grand gaube'\n",
      "'Processing city number 273, gloversville'\n",
      "'Processing city number 274, glace bay'\n",
      "'Processing city number 275, lagoa'\n",
      "'Processing city number 276, bria'\n",
      "'Processing city number 277, ati'\n",
      "'Processing city number 278, kieta'\n",
      "'Processing city number 279, ola'\n",
      "'Processing city number 280, saldanha'\n",
      "'Processing city number 281, sao jose da coroa grande'\n",
      "'Processing city number 282, mrirt'\n",
      "'Processing city number 283, vestmanna'\n",
      "'Processing city number 284, jiddah'\n",
      "'Processing city number 285, maloy'\n",
      "'Processing city number 286, calama'\n",
      "'Processing city number 287, mahibadhoo'\n",
      "'Processing city number 288, salinopolis'\n",
      "'Processing city number 289, muros'\n",
      "'Processing city number 290, aktau'\n",
      "'Processing city number 291, channel-port aux basques'\n",
      "'Processing city number 292, poya'\n",
      "'Processing city number 293, dubbo'\n",
      "'Processing city number 294, luena'\n",
      "'Processing city number 295, camacha'\n",
      "'Processing city number 296, kysyl-syr'\n",
      "'Processing city number 297, umzimvubu'\n",
      "'Processing city number 298, progreso'\n",
      "'Processing city number 299, novobirilyussy'\n",
      "'Processing city number 300, robertsport'\n",
      "'Processing city number 301, murgab'\n",
      "'Processing city number 302, campeche'\n",
      "'Processing city number 303, broome'\n",
      "'Processing city number 304, shenjiamen'\n",
      "'Processing city number 305, jumla'\n",
      "'Processing city number 306, bubaque'\n",
      "'Processing city number 307, bournemouth'\n",
      "'Processing city number 308, sebeta'\n",
      "'Processing city number 309, touros'\n",
      "'Processing city number 310, yinchuan'\n",
      "'Processing city number 311, tawau'\n",
      "'Processing city number 312, nemuro'\n",
      "'Processing city number 313, naryan-mar'\n",
      "'Processing city number 314, ishigaki'\n",
      "'Processing city number 315, camana'\n",
      "'Processing city number 316, bengkulu'\n",
      "'Processing city number 317, padang'\n",
      "'Processing city number 318, marawi'\n",
      "'Processing city number 319, sitka'\n",
      "'Processing city number 320, saint-georges'\n",
      "'Processing city number 321, monmouth'\n",
      "'Processing city number 322, bintulu'\n",
      "'Processing city number 323, labutta'\n",
      "'Processing city number 324, newport'\n",
      "'Processing city number 325, aksarka'\n",
      "'Processing city number 326, hihifo'\n",
      "'Processing city number 327, boshnyakovo'\n",
      "'Processing city number 328, khonuu'\n",
      "'Processing city number 329, halalo'\n",
      "'Processing city number 330, carlsbad'\n",
      "'Processing city number 331, suntar'\n",
      "'Processing city number 332, calatayud'\n",
      "'Processing city number 333, kamenskoye'\n",
      "'Processing city number 334, yusva'\n",
      "'Processing city number 335, ketchikan'\n",
      "'Processing city number 336, niederzier'\n",
      "'Processing city number 337, carupano'\n",
      "'Processing city number 338, ugoofaaru'\n",
      "'Processing city number 339, batemans bay'\n",
      "'Processing city number 340, sao felix do xingu'\n",
      "'Processing city number 341, mehamn'\n",
      "'Processing city number 342, ningxiang'\n",
      "'Processing city number 343, tautira'\n",
      "'Processing city number 344, nuuk'\n",
      "'Processing city number 345, urcos'\n",
      "'Processing city number 346, lilongwe'\n",
      "'Processing city number 347, waipawa'\n",
      "'Processing city number 348, alugan'\n",
      "'Processing city number 349, rimavska sobota'\n",
      "'Processing city number 350, chokurdakh'\n",
      "'Processing city number 351, bur gabo'\n",
      "'Processing city number 352, kyra'\n",
      "'Processing city number 353, zolnoye'\n",
      "'Processing city number 354, dudinka'\n",
      "'Processing city number 355, matamoros'\n",
      "'Processing city number 356, dunedin'\n",
      "'Processing city number 357, buin'\n",
      "'Processing city number 358, tchamba'\n",
      "'Processing city number 359, airai'\n",
      "'Processing city number 360, sao joao da barra'\n",
      "'Processing city number 361, esperance'\n",
      "'Processing city number 362, pastavy'\n",
      "'Processing city number 363, los llanos de aridane'\n",
      "'Processing city number 364, petatlan'\n",
      "'Processing city number 365, magistralnyy'\n",
      "'Processing city number 366, skibbereen'\n",
      "'Processing city number 367, kouroussa'\n",
      "'Processing city number 368, lyubashivka'\n",
      "'Processing city number 369, makakilo city'\n",
      "'Processing city number 370, karonga'\n",
      "'Processing city number 371, el tigre'\n",
      "'Processing city number 372, tilichiki'\n",
      "'Processing city number 373, clyde river'\n",
      "'Processing city number 374, praia'\n",
      "'Processing city number 375, riyadh'\n",
      "'Processing city number 376, tabiauea'\n",
      "'Processing city number 377, nelson bay'\n",
      "'Processing city number 378, rjukan'\n",
      "'Processing city number 379, eirunepe'\n",
      "'Processing city number 380, sezemice'\n",
      "'Processing city number 381, botshabelo'\n",
      "'Processing city number 382, alexandria'\n",
      "'Processing city number 383, santa maria'\n",
      "'Processing city number 384, yebaishou'\n",
      "'Processing city number 385, dauphin'\n",
      "'Processing city number 386, gornyak'\n",
      "'Processing city number 387, castrillon'\n",
      "'Processing city number 388, nouadhibou'\n",
      "'Processing city number 389, brazzaville'\n",
      "'Processing city number 390, shache'\n",
      "'Processing city number 391, ucluelet'\n",
      "'Processing city number 392, butig'\n",
      "'Processing city number 393, oxbow'\n",
      "'Processing city number 394, tallahassee'\n",
      "'Processing city number 395, half moon bay'\n",
      "'Processing city number 396, bahia blanca'\n",
      "'Processing city number 397, ostrovnoy'\n",
      "'Processing city number 398, sa kaeo'\n",
      "'Processing city number 399, tabulbah'\n",
      "'Processing city number 400, bethanien'\n",
      "'Processing city number 401, kapit'\n",
      "'Processing city number 402, ituni'\n",
      "'Processing city number 403, sandpoint'\n",
      "'Processing city number 404, znamenskoye'\n",
      "'Processing city number 405, seoul'\n",
      "'Processing city number 406, gadsden'\n",
      "'Processing city number 407, khani'\n",
      "'Processing city number 408, raymondville'\n",
      "'Processing city number 409, port hedland'\n",
      "'Processing city number 410, palabuhanratu'\n",
      "'Processing city number 411, yerbogachen'\n",
      "'Processing city number 412, ginda'\n",
      "'Processing city number 413, morlaix'\n",
      "'Processing city number 414, gidam'\n",
      "'Processing city number 415, lata'\n",
      "'Processing city number 416, semey'\n",
      "'Processing city number 417, hamilton'\n",
      "'Processing city number 418, russell'\n",
      "'Processing city number 419, mushie'\n",
      "'Processing city number 420, lipno'\n",
      "'Processing city number 421, bilibino'\n",
      "'Processing city number 422, khatanga'\n",
      "'Processing city number 423, dulce grande'\n",
      "'Processing city number 424, vallenar'\n",
      "'Processing city number 425, smirnykh'\n",
      "'Processing city number 426, flin flon'\n",
      "'Processing city number 427, syracuse'\n",
      "'Processing city number 428, benguela'\n",
      "'Processing city number 429, susehri'\n",
      "'Processing city number 430, hastings'\n",
      "'Processing city number 431, kolvereid'\n",
      "'Processing city number 432, vila'\n",
      "'Processing city number 433, kendal'\n",
      "'Processing city number 434, bolshaya murta'\n",
      "'Processing city number 435, saint-gilles'\n",
      "'Processing city number 436, severnoye'\n",
      "'Processing city number 437, sechura'\n",
      "'Processing city number 438, neuchatel'\n",
      "'Processing city number 439, shimoda'\n",
      "'Processing city number 440, vardo'\n",
      "'Processing city number 441, akyab'\n",
      "'Processing city number 442, jiblah'\n",
      "'Processing city number 443, selenduma'\n",
      "'Processing city number 444, navolato'\n",
      "'Processing city number 445, anuchino'\n",
      "'Processing city number 446, sola'\n",
      "'Processing city number 447, pindorama'\n",
      "'Processing city number 448, soller'\n",
      "'Processing city number 449, cabo san lucas'\n",
      "'Processing city number 450, akhalgori'\n",
      "'Processing city number 451, asayita'\n",
      "'Processing city number 452, anadyr'\n",
      "'Processing city number 453, lyudinovo'\n",
      "'Processing city number 454, indian trail'\n",
      "'Processing city number 455, liniere'\n",
      "'Processing city number 456, bud'\n",
      "'Processing city number 457, smithers'\n",
      "'Processing city number 458, pacific grove'\n",
      "'Processing city number 459, scalea'\n",
      "'Processing city number 460, porto novo'\n",
      "'Processing city number 461, shima'\n",
      "'Processing city number 462, hami'\n",
      "'Processing city number 463, grand river south east'\n",
      "'Processing city number 464, marshalltown'\n",
      "'Processing city number 465, makinsk'\n",
      "'Processing city number 466, borovoy'\n",
      "'Processing city number 467, san patricio'\n",
      "'Processing city number 468, nalut'\n",
      "'Processing city number 469, poum'\n",
      "'Processing city number 470, naze'\n",
      "'Processing city number 471, auki'\n",
      "'Processing city number 472, samusu'\n",
      "'Processing city number 473, lakes entrance'\n",
      "'Processing city number 474, sidi ali'\n",
      "'Processing city number 475, soe'\n",
      "'Processing city number 476, ambon'\n",
      "'Processing city number 477, evensk'\n",
      "'Processing city number 478, shilong'\n",
      "'Processing city number 479, laguna'\n",
      "'Processing city number 480, faya'\n",
      "'Processing city number 481, labuhan'\n",
      "'Processing city number 482, port blair'\n",
      "'Processing city number 483, mezen'\n",
      "'Processing city number 484, comodoro rivadavia'\n",
      "'Processing city number 485, hanyang'\n",
      "'Processing city number 486, warqla'\n",
      "'Processing city number 487, svetlyy'\n",
      "'Processing city number 488, isangel'\n",
      "'Processing city number 489, caravelas'\n",
      "'Processing city number 490, nakusp'\n",
      "'Processing city number 491, razole'\n",
      "'Processing city number 492, havoysund'\n",
      "'Processing city number 493, alta floresta'\n",
      "'Processing city number 494, novyy urengoy'\n",
      "'Processing city number 495, semnan'\n",
      "'Processing city number 496, chicama'\n",
      "'Processing city number 497, kavaratti'\n",
      "'Processing city number 498, lasa'\n",
      "'Processing city number 499, cap malheureux'\n",
      "'Processing city number 500, san marcos de tarrazu'\n",
      "'Processing city number 501, sorong'\n",
      "'Processing city number 502, burica'\n",
      "'Processing city number 503, deputatskiy'\n",
      "'Processing city number 504, igrim'\n",
      "'Processing city number 505, turtkul'\n",
      "'Processing city number 506, jeremie'\n",
      "'Processing city number 507, madang'\n",
      "'Processing city number 508, alotau'\n",
      "'Processing city number 509, vostok'\n",
      "'Processing city number 510, kushima'\n",
      "'Processing city number 511, kinshasa'\n",
      "'Processing city number 512, mmabatho'\n",
      "'Processing city number 513, willemstad'\n",
      "'Processing city number 514, samalaeulu'\n",
      "'Processing city number 515, torez'\n",
      "'Processing city number 516, deniliquin'\n",
      "'Processing city number 517, riosucio'\n",
      "'Processing city number 518, juneau'\n",
      "'Processing city number 519, hualmay'\n",
      "'Processing city number 520, lagunas'\n",
      "'Processing city number 521, tabou'\n",
      "'Processing city number 522, rawlins'\n",
      "'Processing city number 523, griffith'\n",
      "'Processing city number 524, sinnamary'\n",
      "'Processing city number 525, darien'\n",
      "'Processing city number 526, acuna'\n",
      "'Processing city number 527, porto murtinho'\n",
      "'Processing city number 528, tabas'\n",
      "'Processing city number 529, ambilobe'\n",
      "'Processing city number 530, farkhor'\n",
      "'Processing city number 531, inirida'\n",
      "'Processing city number 532, pasaco'\n",
      "'Processing city number 533, rio cuarto'\n",
      "'Processing city number 534, ponta delgada'\n",
      "'Processing city number 535, kasongo-lunda'\n",
      "'Processing city number 536, morondava'\n",
      "'Processing city number 537, miranda de ebro'\n",
      "'Processing city number 538, ambah'\n",
      "'Processing city number 539, veraval'\n",
      "'Processing city number 540, dover'\n",
      "'Processing city number 541, kandrian'\n",
      "'Processing city number 542, sharjah'\n",
      "'Processing city number 543, alyangula'\n",
      "'Processing city number 544, golden'\n",
      "'Processing city number 545, olafsvik'\n",
      "'Processing city number 546, phan thiet'\n",
      "'Processing city number 547, portel'\n",
      "'Processing city number 548, dandong'\n",
      "'Processing city number 549, banda aceh'\n",
      "'Processing city number 550, landau'\n",
      "'Processing city number 551, nanortalik'\n",
      "'Processing city number 552, yatsushiro'\n",
      "'Processing city number 553, teguise'\n",
      "'Processing city number 554, jieshi'\n",
      "'Processing city number 555, inhambane'\n",
      "'Processing city number 556, biskamzha'\n",
      "'Processing city number 557, parrita'\n",
      "'Processing city number 558, sogdiondon'\n",
      "'Processing city number 559, gorin'\n",
      "'Processing city number 560, karachev'\n",
      "'Processing city number 561, wattegama'\n",
      "'Processing city number 562, nyrob'\n",
      "'Processing city number 563, antofagasta'\n",
      "'Processing city number 564, jabiru'\n",
      "'Processing city number 565, sembe'\n",
      "'Processing city number 566, jahrom'\n",
      "'Processing city number 567, provideniya'\n",
      "'Processing city number 568, callaway'\n",
      "'Processing city number 569, moree'\n",
      "'Processing city number 570, sangar'\n",
      "'Processing city number 571, vanimo'\n",
      "'Processing city number 572, achisay'\n",
      "'Processing city number 573, iqaluit'\n",
      "'Processing city number 574, shetpe'\n",
      "'Processing city number 575, samarai'\n",
      "'Processing city number 576, taoudenni'\n",
      "'Processing city number 577, mount isa'\n",
      "'Processing city number 578, belmonte'\n",
      "'Processing city number 579, vao'\n",
      "'Processing city number 580, gijon'\n",
      "'Processing city number 581, phayao'\n",
      "'Processing city number 582, turukhansk'\n",
      "'Processing city number 583, vilyuysk'\n",
      "'Processing city number 584, fortuna foothills'\n",
      "'Processing city number 585, bauchi'\n",
      "'Processing city number 586, boatlaname'\n",
      "'Processing city number 587, sacramento'\n",
      "'Processing city number 588, takaungu'\n",
      "'Processing city number 589, posse'\n",
      "'Processing city number 590, bartica'\n",
      "'Processing city number 591, hofn'\n",
      "'Processing city number 592, boyolangu'\n"
     ]
    }
   ],
   "source": [
    "weather_chk = []\n",
    "base_url = \"http://api.openweathermap.org/data/2.5/weather?\"\n",
    "for city_index in range(0, len(cities)):\n",
    "    w_url = f\"{base_url}appid={weather_api_key}&units=imperial&q={cities[city_index]}\"\n",
    "    response = requests.get(w_url).json()\n",
    "    try:\n",
    "        weather_chk.append(response)\n",
    "        pprint(f\"Processing city number {city_index}, {cities[city_index]}\")\n",
    "    except Exception as e:\n",
    "        print(f\"{cities[city_index]} does not have weather information.\")\n",
    "    "
   ]
  },
  {
   "cell_type": "code",
   "execution_count": null,
   "metadata": {
    "scrolled": true
   },
   "outputs": [],
   "source": []
  },
  {
   "cell_type": "markdown",
   "metadata": {},
   "source": [
    "### Convert Raw Data to DataFrame\n",
    "* Export the city data into a .csv.\n",
    "* Display the DataFrame"
   ]
  },
  {
   "cell_type": "code",
   "execution_count": 82,
   "metadata": {},
   "outputs": [
    {
     "data": {
      "text/plain": [
       "[{'coord': {'lon': -90.3518, 'lat': -0.7393},\n",
       "  'weather': [{'id': 804,\n",
       "    'main': 'Clouds',\n",
       "    'description': 'overcast clouds',\n",
       "    'icon': '04n'}],\n",
       "  'base': 'stations',\n",
       "  'main': {'temp': 66.54,\n",
       "   'feels_like': 67.26,\n",
       "   'temp_min': 66.54,\n",
       "   'temp_max': 66.54,\n",
       "   'pressure': 1015,\n",
       "   'humidity': 93},\n",
       "  'visibility': 10000,\n",
       "  'wind': {'speed': 3, 'deg': 150, 'gust': 7},\n",
       "  'clouds': {'all': 98},\n",
       "  'dt': 1661476371,\n",
       "  'sys': {'type': 2,\n",
       "   'id': 2005652,\n",
       "   'country': 'EC',\n",
       "   'sunrise': 1661428852,\n",
       "   'sunset': 1661472391},\n",
       "  'timezone': -21600,\n",
       "  'id': 3652764,\n",
       "  'name': 'Puerto Ayora',\n",
       "  'cod': 200},\n",
       " {'coord': {'lon': 168.8643, 'lat': -46.1927},\n",
       "  'weather': [{'id': 800,\n",
       "    'main': 'Clear',\n",
       "    'description': 'clear sky',\n",
       "    'icon': '01d'}],\n",
       "  'base': 'stations',\n",
       "  'main': {'temp': 54.48,\n",
       "   'feels_like': 51.8,\n",
       "   'temp_min': 54.48,\n",
       "   'temp_max': 54.48,\n",
       "   'pressure': 1017,\n",
       "   'humidity': 46,\n",
       "   'sea_level': 1017,\n",
       "   'grnd_level': 1011},\n",
       "  'visibility': 10000,\n",
       "  'wind': {'speed': 0.04, 'deg': 115, 'gust': 1.34},\n",
       "  'clouds': {'all': 0},\n",
       "  'dt': 1661476534,\n",
       "  'sys': {'type': 2,\n",
       "   'id': 2008959,\n",
       "   'country': 'NZ',\n",
       "   'sunrise': 1661455606,\n",
       "   'sunset': 1661494005},\n",
       "  'timezone': 43200,\n",
       "  'id': 6201424,\n",
       "  'name': 'Mataura',\n",
       "  'cod': 200}]"
      ]
     },
     "execution_count": 82,
     "metadata": {},
     "output_type": "execute_result"
    }
   ],
   "source": [
    "weather_chk[0:2]"
   ]
  },
  {
   "cell_type": "code",
   "execution_count": 84,
   "metadata": {},
   "outputs": [
    {
     "name": "stdout",
     "output_type": "stream",
     "text": [
      "belushya guba has no 'coord'\n",
      "vaitupu has no 'coord'\n",
      "vestbygda has no 'coord'\n",
      "tsihombe has no 'coord'\n",
      "illoqqortoormiut has no 'coord'\n",
      "cagayan de tawi-tawi has no 'coord'\n",
      "taolanaro has no 'coord'\n",
      "yefimovskiy has no 'coord'\n",
      "saleaula has no 'coord'\n",
      "ambodifototra has no 'coord'\n",
      "mys shmidta has no 'coord'\n",
      "sorvag has no 'coord'\n",
      "marcona has no 'coord'\n",
      "attawapiskat has no 'coord'\n",
      "mahaicony has no 'coord'\n",
      "tuggurt has no 'coord'\n",
      "sentyabrskiy has no 'coord'\n",
      "tumannyy has no 'coord'\n",
      "westpunt has no 'coord'\n",
      "amderma has no 'coord'\n",
      "barentsburg has no 'coord'\n",
      "maloshuyka has no 'coord'\n",
      "karauzyak has no 'coord'\n",
      "boljarovo has no 'coord'\n",
      "kegayli has no 'coord'\n",
      "umm ruwabah has no 'coord'\n",
      "mrirt has no 'coord'\n",
      "jiddah has no 'coord'\n",
      "umzimvubu has no 'coord'\n",
      "labutta has no 'coord'\n",
      "hihifo has no 'coord'\n",
      "khonuu has no 'coord'\n",
      "halalo has no 'coord'\n",
      "kamenskoye has no 'coord'\n",
      "yusva has no 'coord'\n",
      "bur gabo has no 'coord'\n",
      "zolnoye has no 'coord'\n",
      "tabiauea has no 'coord'\n",
      "tabulbah has no 'coord'\n",
      "ituni has no 'coord'\n",
      "palabuhanratu has no 'coord'\n",
      "bolshaya murta has no 'coord'\n",
      "asayita has no 'coord'\n",
      "liniere has no 'coord'\n",
      "grand river south east has no 'coord'\n",
      "samusu has no 'coord'\n",
      "warqla has no 'coord'\n",
      "san marcos de tarrazu has no 'coord'\n",
      "burica has no 'coord'\n",
      "turtkul has no 'coord'\n",
      "alotau has no 'coord'\n",
      "samalaeulu has no 'coord'\n",
      "acuna has no 'coord'\n",
      "sogdiondon has no 'coord'\n",
      "jabiru has no 'coord'\n",
      "jahrom has no 'coord'\n",
      "achisay has no 'coord'\n",
      "boatlaname has no 'coord'\n"
     ]
    },
    {
     "data": {
      "text/html": [
       "<div>\n",
       "<style scoped>\n",
       "    .dataframe tbody tr th:only-of-type {\n",
       "        vertical-align: middle;\n",
       "    }\n",
       "\n",
       "    .dataframe tbody tr th {\n",
       "        vertical-align: top;\n",
       "    }\n",
       "\n",
       "    .dataframe thead th {\n",
       "        text-align: right;\n",
       "    }\n",
       "</style>\n",
       "<table border=\"1\" class=\"dataframe\">\n",
       "  <thead>\n",
       "    <tr style=\"text-align: right;\">\n",
       "      <th></th>\n",
       "      <th>City</th>\n",
       "      <th>Lat</th>\n",
       "      <th>Lng</th>\n",
       "      <th>Max Temp</th>\n",
       "      <th>Humidity</th>\n",
       "      <th>Cloudiness</th>\n",
       "      <th>Wind Speed</th>\n",
       "      <th>Country</th>\n",
       "      <th>Date</th>\n",
       "    </tr>\n",
       "  </thead>\n",
       "  <tbody>\n",
       "    <tr>\n",
       "      <th>0</th>\n",
       "      <td>Puerto Ayora</td>\n",
       "      <td>-0.7393</td>\n",
       "      <td>-90.3518</td>\n",
       "      <td>66.54</td>\n",
       "      <td>93</td>\n",
       "      <td>98</td>\n",
       "      <td>3.00</td>\n",
       "      <td>EC</td>\n",
       "      <td>1661476371</td>\n",
       "    </tr>\n",
       "    <tr>\n",
       "      <th>1</th>\n",
       "      <td>Mataura</td>\n",
       "      <td>-46.1927</td>\n",
       "      <td>168.8643</td>\n",
       "      <td>54.48</td>\n",
       "      <td>46</td>\n",
       "      <td>0</td>\n",
       "      <td>0.04</td>\n",
       "      <td>NZ</td>\n",
       "      <td>1661476534</td>\n",
       "    </tr>\n",
       "    <tr>\n",
       "      <th>2</th>\n",
       "      <td>Leh</td>\n",
       "      <td>34.1667</td>\n",
       "      <td>77.5833</td>\n",
       "      <td>59.18</td>\n",
       "      <td>61</td>\n",
       "      <td>14</td>\n",
       "      <td>4.90</td>\n",
       "      <td>IN</td>\n",
       "      <td>1661476421</td>\n",
       "    </tr>\n",
       "    <tr>\n",
       "      <th>3</th>\n",
       "      <td>Barrow</td>\n",
       "      <td>71.2906</td>\n",
       "      <td>-156.7887</td>\n",
       "      <td>53.62</td>\n",
       "      <td>71</td>\n",
       "      <td>0</td>\n",
       "      <td>11.50</td>\n",
       "      <td>US</td>\n",
       "      <td>1661476535</td>\n",
       "    </tr>\n",
       "    <tr>\n",
       "      <th>4</th>\n",
       "      <td>Acapulco de Juárez</td>\n",
       "      <td>16.8634</td>\n",
       "      <td>-99.8901</td>\n",
       "      <td>84.02</td>\n",
       "      <td>74</td>\n",
       "      <td>75</td>\n",
       "      <td>5.75</td>\n",
       "      <td>MX</td>\n",
       "      <td>1661476535</td>\n",
       "    </tr>\n",
       "  </tbody>\n",
       "</table>\n",
       "</div>"
      ],
      "text/plain": [
       "                 City      Lat       Lng  Max Temp  Humidity  Cloudiness  \\\n",
       "0        Puerto Ayora  -0.7393  -90.3518     66.54        93          98   \n",
       "1             Mataura -46.1927  168.8643     54.48        46           0   \n",
       "2                 Leh  34.1667   77.5833     59.18        61          14   \n",
       "3              Barrow  71.2906 -156.7887     53.62        71           0   \n",
       "4  Acapulco de Juárez  16.8634  -99.8901     84.02        74          75   \n",
       "\n",
       "   Wind Speed Country        Date  \n",
       "0        3.00      EC  1661476371  \n",
       "1        0.04      NZ  1661476534  \n",
       "2        4.90      IN  1661476421  \n",
       "3       11.50      US  1661476535  \n",
       "4        5.75      MX  1661476535  "
      ]
     },
     "execution_count": 84,
     "metadata": {},
     "output_type": "execute_result"
    }
   ],
   "source": [
    "w_lat = []\n",
    "w_lng = []\n",
    "max_temp = []\n",
    "humidity = []\n",
    "cloud = []\n",
    "wind = []\n",
    "country = []\n",
    "w_date = []\n",
    "w_cities = [] # Cities that have weather information\n",
    "\n",
    "# loop through weather_chk list\n",
    "for w in range(0, len(weather_chk)):\n",
    "    try:\n",
    "        w_lat.append(weather_chk[w]['coord']['lat'])\n",
    "        w_lng.append(weather_chk[w]['coord']['lon'])\n",
    "        max_temp.append(weather_chk[w]['main']['temp_max'])\n",
    "        humidity.append(weather_chk[w]['main']['humidity'])\n",
    "        cloud.append(weather_chk[w]['clouds']['all'])\n",
    "        wind.append(weather_chk[w]['wind']['speed'])\n",
    "        country.append(weather_chk[w]['sys']['country'])\n",
    "        w_date.append(weather_chk[w]['dt'])\n",
    "        w_cities.append(weather_chk[w]['name'])\n",
    "    except Exception as e:\n",
    "        print(f\"{cities[w]} has no {e}\")\n",
    "\n",
    "city_weather_df = pd.DataFrame({\n",
    "    \"City\": w_cities,\n",
    "    \"Lat\":w_lat,\n",
    "    \"Lng\":w_lng,\n",
    "    \"Max Temp\":max_temp,\n",
    "    \"Humidity\": humidity,\n",
    "    \"Cloudiness\":cloud,\n",
    "    \"Wind Speed\":wind,\n",
    "    \"Country\": country,\n",
    "    \"Date\":w_date})\n",
    "city_weather_df.head()"
   ]
  },
  {
   "cell_type": "code",
   "execution_count": null,
   "metadata": {},
   "outputs": [],
   "source": []
  },
  {
   "cell_type": "code",
   "execution_count": 85,
   "metadata": {},
   "outputs": [
    {
     "data": {
      "text/html": [
       "<div>\n",
       "<style scoped>\n",
       "    .dataframe tbody tr th:only-of-type {\n",
       "        vertical-align: middle;\n",
       "    }\n",
       "\n",
       "    .dataframe tbody tr th {\n",
       "        vertical-align: top;\n",
       "    }\n",
       "\n",
       "    .dataframe thead th {\n",
       "        text-align: right;\n",
       "    }\n",
       "</style>\n",
       "<table border=\"1\" class=\"dataframe\">\n",
       "  <thead>\n",
       "    <tr style=\"text-align: right;\">\n",
       "      <th></th>\n",
       "      <th>Lat</th>\n",
       "      <th>Lng</th>\n",
       "      <th>Max Temp</th>\n",
       "      <th>Humidity</th>\n",
       "      <th>Cloudiness</th>\n",
       "      <th>Wind Speed</th>\n",
       "      <th>Date</th>\n",
       "    </tr>\n",
       "  </thead>\n",
       "  <tbody>\n",
       "    <tr>\n",
       "      <th>count</th>\n",
       "      <td>535.000000</td>\n",
       "      <td>535.000000</td>\n",
       "      <td>535.000000</td>\n",
       "      <td>535.000000</td>\n",
       "      <td>535.000000</td>\n",
       "      <td>535.000000</td>\n",
       "      <td>5.350000e+02</td>\n",
       "    </tr>\n",
       "    <tr>\n",
       "      <th>mean</th>\n",
       "      <td>20.974061</td>\n",
       "      <td>17.196333</td>\n",
       "      <td>67.748654</td>\n",
       "      <td>73.594393</td>\n",
       "      <td>52.857944</td>\n",
       "      <td>7.062262</td>\n",
       "      <td>1.661477e+09</td>\n",
       "    </tr>\n",
       "    <tr>\n",
       "      <th>std</th>\n",
       "      <td>33.172267</td>\n",
       "      <td>90.451838</td>\n",
       "      <td>13.200921</td>\n",
       "      <td>18.707836</td>\n",
       "      <td>41.539008</td>\n",
       "      <td>4.678118</td>\n",
       "      <td>1.042644e+02</td>\n",
       "    </tr>\n",
       "    <tr>\n",
       "      <th>min</th>\n",
       "      <td>-54.800000</td>\n",
       "      <td>-175.200000</td>\n",
       "      <td>33.350000</td>\n",
       "      <td>1.000000</td>\n",
       "      <td>0.000000</td>\n",
       "      <td>0.000000</td>\n",
       "      <td>1.661476e+09</td>\n",
       "    </tr>\n",
       "    <tr>\n",
       "      <th>25%</th>\n",
       "      <td>-5.403450</td>\n",
       "      <td>-63.127600</td>\n",
       "      <td>57.985000</td>\n",
       "      <td>65.000000</td>\n",
       "      <td>8.000000</td>\n",
       "      <td>3.470000</td>\n",
       "      <td>1.661477e+09</td>\n",
       "    </tr>\n",
       "    <tr>\n",
       "      <th>50%</th>\n",
       "      <td>26.002300</td>\n",
       "      <td>15.640100</td>\n",
       "      <td>69.760000</td>\n",
       "      <td>78.000000</td>\n",
       "      <td>51.000000</td>\n",
       "      <td>5.880000</td>\n",
       "      <td>1.661477e+09</td>\n",
       "    </tr>\n",
       "    <tr>\n",
       "      <th>75%</th>\n",
       "      <td>48.483050</td>\n",
       "      <td>102.219700</td>\n",
       "      <td>77.895000</td>\n",
       "      <td>87.000000</td>\n",
       "      <td>100.000000</td>\n",
       "      <td>9.620000</td>\n",
       "      <td>1.661477e+09</td>\n",
       "    </tr>\n",
       "    <tr>\n",
       "      <th>max</th>\n",
       "      <td>78.218600</td>\n",
       "      <td>178.416700</td>\n",
       "      <td>102.560000</td>\n",
       "      <td>100.000000</td>\n",
       "      <td>100.000000</td>\n",
       "      <td>24.630000</td>\n",
       "      <td>1.661477e+09</td>\n",
       "    </tr>\n",
       "  </tbody>\n",
       "</table>\n",
       "</div>"
      ],
      "text/plain": [
       "              Lat         Lng    Max Temp    Humidity  Cloudiness  Wind Speed  \\\n",
       "count  535.000000  535.000000  535.000000  535.000000  535.000000  535.000000   \n",
       "mean    20.974061   17.196333   67.748654   73.594393   52.857944    7.062262   \n",
       "std     33.172267   90.451838   13.200921   18.707836   41.539008    4.678118   \n",
       "min    -54.800000 -175.200000   33.350000    1.000000    0.000000    0.000000   \n",
       "25%     -5.403450  -63.127600   57.985000   65.000000    8.000000    3.470000   \n",
       "50%     26.002300   15.640100   69.760000   78.000000   51.000000    5.880000   \n",
       "75%     48.483050  102.219700   77.895000   87.000000  100.000000    9.620000   \n",
       "max     78.218600  178.416700  102.560000  100.000000  100.000000   24.630000   \n",
       "\n",
       "               Date  \n",
       "count  5.350000e+02  \n",
       "mean   1.661477e+09  \n",
       "std    1.042644e+02  \n",
       "min    1.661476e+09  \n",
       "25%    1.661477e+09  \n",
       "50%    1.661477e+09  \n",
       "75%    1.661477e+09  \n",
       "max    1.661477e+09  "
      ]
     },
     "execution_count": 85,
     "metadata": {},
     "output_type": "execute_result"
    }
   ],
   "source": [
    "city_weather_df.describe()"
   ]
  },
  {
   "cell_type": "code",
   "execution_count": 86,
   "metadata": {},
   "outputs": [],
   "source": [
    "city_weather_df.to_csv(\"./city_weather.csv\")"
   ]
  },
  {
   "cell_type": "markdown",
   "metadata": {},
   "source": [
    "## Inspect the data and remove the cities where the humidity > 100%.\n",
    "----\n",
    "Skip this step if there are no cities that have humidity > 100%. "
   ]
  },
  {
   "cell_type": "code",
   "execution_count": 87,
   "metadata": {},
   "outputs": [],
   "source": [
    "# There is no city with humidity > 100%"
   ]
  },
  {
   "cell_type": "code",
   "execution_count": 88,
   "metadata": {},
   "outputs": [],
   "source": [
    "#  Get the indices of cities that have humidity over 100%.\n"
   ]
  },
  {
   "cell_type": "code",
   "execution_count": 89,
   "metadata": {},
   "outputs": [],
   "source": [
    "# Make a new DataFrame equal to the city data to drop all humidity outliers by index.\n",
    "# Passing \"inplace=False\" will make a copy of the city_data DataFrame, which we call \"clean_city_data\".\n"
   ]
  },
  {
   "cell_type": "code",
   "execution_count": null,
   "metadata": {},
   "outputs": [],
   "source": [
    "\n"
   ]
  },
  {
   "cell_type": "markdown",
   "metadata": {},
   "source": [
    "## Plotting the Data\n",
    "* Use proper labeling of the plots using plot titles (including date of analysis) and axes labels.\n",
    "* Save the plotted figures as .pngs."
   ]
  },
  {
   "cell_type": "markdown",
   "metadata": {},
   "source": [
    "## Latitude vs. Temperature Plot"
   ]
  },
  {
   "cell_type": "code",
   "execution_count": 90,
   "metadata": {
    "scrolled": true
   },
   "outputs": [
    {
     "data": {
      "image/png": "[encoded data removed]",
      "text/plain": [
       "<Figure size 432x288 with 1 Axes>"
      ]
     },
     "metadata": {
      "needs_background": "light"
     },
     "output_type": "display_data"
    }
   ],
   "source": [
    "city_weather_df.plot(kind=\"scatter\", x=\"Lat\", y =\"Max Temp\", title=\"Latitude vs. Temperature (08/25/22)\", grid = True)\n",
    "plt.savefig(\"Images/Weather-lat_temp_fig.png\")"
   ]
  },
  {
   "cell_type": "markdown",
   "metadata": {},
   "source": [
    "This plot is displaying the highest temperatures for cities based on their latitude. There seems to be a non-linear (quadratic) relationship between the latitude and the max temperature as it is forming a parabola. The closer the latitude is to 20, the higher the max temperature is. The peak of the temperatures is approximately when the latitude is between 20 and 40. "
   ]
  },
  {
   "cell_type": "markdown",
   "metadata": {},
   "source": [
    "## Latitude vs. Humidity Plot"
   ]
  },
  {
   "cell_type": "code",
   "execution_count": 91,
   "metadata": {},
   "outputs": [
    {
     "data": {
      "image/png": "[encoded data removed]",
      "text/plain": [
       "<Figure size 432x288 with 1 Axes>"
      ]
     },
     "metadata": {
      "needs_background": "light"
     },
     "output_type": "display_data"
    }
   ],
   "source": [
    "city_weather_df.plot(kind=\"scatter\", x= 'Lat', y = \"Humidity\", title=\"City Latitude vs. Humidity (08/25/22)\", grid=True)\n",
    "plt.ylabel(\"Humidiy (%)\")\n",
    "plt.xlabel(\"Latitude\")\n",
    "plt.savefig(\"Images/Weather-lat_humidity.png\")"
   ]
  },
  {
   "cell_type": "markdown",
   "metadata": {},
   "source": [
    "This figure displays the latitude of the cities against the humidity. There does not seem to be any relationship between the latitude and humidity."
   ]
  },
  {
   "cell_type": "markdown",
   "metadata": {},
   "source": [
    "## Latitude vs. Cloudiness Plot"
   ]
  },
  {
   "cell_type": "code",
   "execution_count": 92,
   "metadata": {},
   "outputs": [
    {
     "data": {
      "image/png": "[encoded data removed]",
      "text/plain": [
       "<Figure size 432x288 with 1 Axes>"
      ]
     },
     "metadata": {
      "needs_background": "light"
     },
     "output_type": "display_data"
    }
   ],
   "source": [
    "city_weather_df.plot(kind=\"scatter\", x= 'Lat', y = \"Cloudiness\", title=\"City Latitude vs. Cloudiness (08/25/22)\", grid=True)\n",
    "plt.ylabel(\"Cloudiness (%)\")\n",
    "plt.xlabel(\"City Latitude\")\n",
    "plt.savefig(\"Images/Weather-lat_cloud.png\")"
   ]
  },
  {
   "cell_type": "markdown",
   "metadata": {},
   "source": [
    "There does not seem to be a relationship between the percentage of clouds and the latitude of the city."
   ]
  },
  {
   "cell_type": "markdown",
   "metadata": {},
   "source": [
    "## Latitude vs. Wind Speed Plot"
   ]
  },
  {
   "cell_type": "code",
   "execution_count": 93,
   "metadata": {},
   "outputs": [
    {
     "data": {
      "image/png": "[encoded data removed]",
      "text/plain": [
       "<Figure size 432x288 with 1 Axes>"
      ]
     },
     "metadata": {
      "needs_background": "light"
     },
     "output_type": "display_data"
    }
   ],
   "source": [
    "city_weather_df.plot(kind=\"scatter\", x= 'Lat', y = \"Wind Speed\", title=\"City Latitude vs. Wind Speed (08/25/22)\", grid=True)\n",
    "plt.ylabel(\"Wind Speed (mph)\")\n",
    "plt.xlabel(\"Latitude\")\n",
    "plt.savefig(\"Images/Weather-lat_wind.png\")"
   ]
  },
  {
   "cell_type": "markdown",
   "metadata": {},
   "source": [
    "There is not relationship between the wind speed and the latitude of each city. However, the majority of wind speed is between 0 and 15 mph."
   ]
  },
  {
   "cell_type": "markdown",
   "metadata": {},
   "source": [
    "## Linear Regression"
   ]
  },
  {
   "cell_type": "code",
   "execution_count": 94,
   "metadata": {},
   "outputs": [],
   "source": [
    "# Linear Regression Function\n",
    "def plot_lin_regress(x_values, y_values, x_label, y_label, file_path_name):\n",
    "    (slope, intercept, rvalue, pvalue, stderr) = linregress(x_values, y_values)\n",
    "    regress_values = x_values * slope + intercept\n",
    "    line_eq = \"y = \" + str(round(slope,2)) + \"x + \" + str(round(intercept,2))\n",
    "    plt.scatter(x_values,y_values)\n",
    "    plt.plot(x_values,regress_values,\"r-\")\n",
    "    plt.annotate(line_eq,(min(x_values)+1,min(y_values)+1),fontsize=15,color=\"red\")\n",
    "    plt.xlabel(x_label)\n",
    "    plt.ylabel(y_label)\n",
    "    print(f\"The r-value is: {rvalue**2}\")\n",
    "    plt.show()\n",
    "    plt.savefig(file_path_name)"
   ]
  },
  {
   "cell_type": "markdown",
   "metadata": {},
   "source": [
    "####  Northern Hemisphere - Max Temp vs. Latitude Linear Regression"
   ]
  },
  {
   "cell_type": "code",
   "execution_count": 95,
   "metadata": {},
   "outputs": [
    {
     "name": "stdout",
     "output_type": "stream",
     "text": [
      "The r-value is: 0.5570706993644584\n"
     ]
    },
    {
     "data": {
      "image/png": "[encoded data removed]",
      "text/plain": [
       "<Figure size 432x288 with 1 Axes>"
      ]
     },
     "metadata": {
      "needs_background": "light"
     },
     "output_type": "display_data"
    },
    {
     "data": {
      "text/plain": [
       "<Figure size 432x288 with 0 Axes>"
      ]
     },
     "metadata": {},
     "output_type": "display_data"
    }
   ],
   "source": [
    "plot_lin_regress(city_weather_df.loc[city_weather_df['Lat']>=0, 'Lat'], city_weather_df.loc[city_weather_df['Lat']>=0,\"Max Temp\"], \"Latitude\", \"Max Temp\",\"Images/Weather-north-lat_temp.png\")"
   ]
  },
  {
   "cell_type": "markdown",
   "metadata": {},
   "source": [
    "There seems to be a negative relationship between the max temperature and the latitude for the Northern Hemisphere. As you get further away from the equator, the max temperature decreases. Nevertheless, based on the r-value of 0.5, this seems to be a poor model as only 50.15% of the variance in the data can be explained by this model."
   ]
  },
  {
   "cell_type": "markdown",
   "metadata": {},
   "source": [
    "####  Southern Hemisphere - Max Temp vs. Latitude Linear Regression"
   ]
  },
  {
   "cell_type": "code",
   "execution_count": 96,
   "metadata": {},
   "outputs": [
    {
     "name": "stdout",
     "output_type": "stream",
     "text": [
      "The r-value is: 0.6145379533386207\n"
     ]
    },
    {
     "data": {
      "image/png": "[encoded data removed]",
      "text/plain": [
       "<Figure size 432x288 with 1 Axes>"
      ]
     },
     "metadata": {
      "needs_background": "light"
     },
     "output_type": "display_data"
    },
    {
     "data": {
      "text/plain": [
       "<Figure size 432x288 with 0 Axes>"
      ]
     },
     "metadata": {},
     "output_type": "display_data"
    }
   ],
   "source": [
    "plot_lin_regress(city_weather_df.loc[city_weather_df['Lat']<0, 'Lat'], city_weather_df.loc[city_weather_df['Lat']<0,\"Max Temp\"], \"Latitude\", \"Max Temp\", \"Images/Weather-south-lat_temp.png\")"
   ]
  },
  {
   "cell_type": "markdown",
   "metadata": {},
   "source": [
    "There seems to be a positive relationship between the latitude and max temperature for cities in the southern hemisphere. As the latitude increases, the temperature increases. Nevertheless, the model is fairly poor. It has an R-square of 59.22% which means that 59.22% of the variance in the data can be explained by this model."
   ]
  },
  {
   "cell_type": "markdown",
   "metadata": {},
   "source": [
    "####  Northern Hemisphere - Humidity (%) vs. Latitude Linear Regression"
   ]
  },
  {
   "cell_type": "code",
   "execution_count": 97,
   "metadata": {},
   "outputs": [
    {
     "name": "stdout",
     "output_type": "stream",
     "text": [
      "The r-value is: 6.001137097987758e-05\n"
     ]
    },
    {
     "data": {
      "image/png": "[encoded data removed]",
      "text/plain": [
       "<Figure size 432x288 with 1 Axes>"
      ]
     },
     "metadata": {
      "needs_background": "light"
     },
     "output_type": "display_data"
    },
    {
     "data": {
      "text/plain": [
       "<Figure size 432x288 with 0 Axes>"
      ]
     },
     "metadata": {},
     "output_type": "display_data"
    }
   ],
   "source": [
    "plot_lin_regress(city_weather_df.loc[city_weather_df['Lat']>=0, 'Lat'], city_weather_df.loc[city_weather_df['Lat']>=0,\"Humidity\"], \"Latitude\", \"Humidity\", \"Images/Weather-north-lat_humidity.png\")"
   ]
  },
  {
   "cell_type": "markdown",
   "metadata": {},
   "source": [
    "There does not seem to be any relationship between the latitude and humidity of each city. The R-square value is extremely low at 0.03%. Therefore, 0.03% of the data can be explained by this model. Thus, this linear model would be a poor predictor of humidity."
   ]
  },
  {
   "cell_type": "markdown",
   "metadata": {},
   "source": [
    "####  Southern Hemisphere - Humidity (%) vs. Latitude Linear Regression"
   ]
  },
  {
   "cell_type": "code",
   "execution_count": 98,
   "metadata": {},
   "outputs": [
    {
     "name": "stdout",
     "output_type": "stream",
     "text": [
      "The r-value is: 0.055237234643220584\n"
     ]
    },
    {
     "data": {
      "image/png": "[encoded data removed]",
      "text/plain": [
       "<Figure size 432x288 with 1 Axes>"
      ]
     },
     "metadata": {
      "needs_background": "light"
     },
     "output_type": "display_data"
    },
    {
     "data": {
      "text/plain": [
       "<Figure size 432x288 with 0 Axes>"
      ]
     },
     "metadata": {},
     "output_type": "display_data"
    }
   ],
   "source": [
    "plot_lin_regress(city_weather_df.loc[city_weather_df['Lat']<0, 'Lat'], city_weather_df.loc[city_weather_df['Lat']<0,\"Humidity\"], \"Latitude\", \"Humidity\", \"Images/Weather-south-lat_humidity.png\")"
   ]
  },
  {
   "cell_type": "markdown",
   "metadata": {},
   "source": [
    "There is a weak positive relationship between the latitude and humidity for southern cities; however it is not a strong one. The R-square value is low at 0.59%. Therefore, 0.59% of the data can be explained by this model. Thus, this linear model would be a poor predictor of humidity."
   ]
  },
  {
   "cell_type": "markdown",
   "metadata": {},
   "source": [
    "####  Northern Hemisphere - Cloudiness (%) vs. Latitude Linear Regression"
   ]
  },
  {
   "cell_type": "code",
   "execution_count": 99,
   "metadata": {},
   "outputs": [
    {
     "name": "stdout",
     "output_type": "stream",
     "text": [
      "The r-value is: 0.0036155171786453146\n"
     ]
    },
    {
     "data": {
      "image/png": "[encoded data removed]",
      "text/plain": [
       "<Figure size 432x288 with 1 Axes>"
      ]
     },
     "metadata": {
      "needs_background": "light"
     },
     "output_type": "display_data"
    },
    {
     "data": {
      "text/plain": [
       "<Figure size 432x288 with 0 Axes>"
      ]
     },
     "metadata": {},
     "output_type": "display_data"
    }
   ],
   "source": [
    "plot_lin_regress(city_weather_df.loc[city_weather_df['Lat']>=0, 'Lat'], city_weather_df.loc[city_weather_df['Lat']>=0,\"Cloudiness\"], \"Latitude\", \"Cloudiness\", \"Images/Weather-north-lat_cloud.png\")"
   ]
  },
  {
   "cell_type": "markdown",
   "metadata": {},
   "source": [
    "There is no relationship between the latitude and percentage of clouds. The R-square value is extremely low at 0.05%. Therefore this would be a poor model to predict the percentage of clouds as only 0.05% of data can be explained by this model."
   ]
  },
  {
   "cell_type": "markdown",
   "metadata": {},
   "source": [
    "####  Southern Hemisphere - Cloudiness (%) vs. Latitude Linear Regression"
   ]
  },
  {
   "cell_type": "code",
   "execution_count": 100,
   "metadata": {},
   "outputs": [
    {
     "name": "stdout",
     "output_type": "stream",
     "text": [
      "The r-value is: 0.040235402266009156\n"
     ]
    },
    {
     "data": {
      "image/png": "[encoded data removed]",
      "text/plain": [
       "<Figure size 432x288 with 1 Axes>"
      ]
     },
     "metadata": {
      "needs_background": "light"
     },
     "output_type": "display_data"
    },
    {
     "data": {
      "text/plain": [
       "<Figure size 432x288 with 0 Axes>"
      ]
     },
     "metadata": {},
     "output_type": "display_data"
    }
   ],
   "source": [
    "plot_lin_regress(city_weather_df.loc[city_weather_df['Lat']<0, 'Lat'], city_weather_df.loc[city_weather_df['Lat']<0,\"Cloudiness\"], \"Latitude\", \"Cloudiness\", \"Images/Weather-south-lat_cloud.png\")"
   ]
  },
  {
   "cell_type": "markdown",
   "metadata": {},
   "source": [
    "There is no relationship between the latitude and percentage of clouds. The R-square value is extremely low at 0.11%. Therefore this would be a poor model to predict the percentage of clouds as only 0.11% of data can be explained by this model."
   ]
  },
  {
   "cell_type": "markdown",
   "metadata": {},
   "source": [
    "####  Northern Hemisphere - Wind Speed (mph) vs. Latitude Linear Regression"
   ]
  },
  {
   "cell_type": "code",
   "execution_count": 101,
   "metadata": {},
   "outputs": [
    {
     "name": "stdout",
     "output_type": "stream",
     "text": [
      "The r-value is: 0.00879513603724698\n"
     ]
    },
    {
     "data": {
      "image/png": "[encoded data removed]",
      "text/plain": [
       "<Figure size 432x288 with 1 Axes>"
      ]
     },
     "metadata": {
      "needs_background": "light"
     },
     "output_type": "display_data"
    },
    {
     "data": {
      "text/plain": [
       "<Figure size 432x288 with 0 Axes>"
      ]
     },
     "metadata": {},
     "output_type": "display_data"
    }
   ],
   "source": [
    "plot_lin_regress(city_weather_df.loc[city_weather_df['Lat']>=0, 'Lat'], city_weather_df.loc[city_weather_df['Lat']>=0,\"Wind Speed\"], \"Latitude\", \"Wind Speed\", \"Images/Weather-north-lat_wind.png\")"
   ]
  },
  {
   "cell_type": "markdown",
   "metadata": {},
   "source": [
    "There is a no relationship between the latitude and percentage of clouds. The R-square value is extremely low at 0.08%. Therefore this would be a poor model to predict the wind speed as only 0.08% of data can be explained by this model."
   ]
  },
  {
   "cell_type": "markdown",
   "metadata": {},
   "source": [
    "####  Southern Hemisphere - Wind Speed (mph) vs. Latitude Linear Regression"
   ]
  },
  {
   "cell_type": "code",
   "execution_count": 102,
   "metadata": {},
   "outputs": [
    {
     "name": "stdout",
     "output_type": "stream",
     "text": [
      "The r-value is: 0.026853853001039808\n"
     ]
    },
    {
     "data": {
      "image/png": "[encoded data removed]",
      "text/plain": [
       "<Figure size 432x288 with 1 Axes>"
      ]
     },
     "metadata": {
      "needs_background": "light"
     },
     "output_type": "display_data"
    },
    {
     "data": {
      "text/plain": [
       "<Figure size 432x288 with 0 Axes>"
      ]
     },
     "metadata": {},
     "output_type": "display_data"
    }
   ],
   "source": [
    "plot_lin_regress(city_weather_df.loc[city_weather_df['Lat']<0, 'Lat'], city_weather_df.loc[city_weather_df['Lat']<0,\"Wind Speed\"], \"Latitude\", \"Wind Speed\", \"Images/Weather-south-lat_wind.png\")"
   ]
  },
  {
   "cell_type": "markdown",
   "metadata": {},
   "source": [
    "There is no relationship between the latitude and the wind speed as the R-square value is low. R-sqaure is 1.81% which indicates that 1.18% of the data can be explained by the model. Thus, this model would not be a good model to use to predict wind speed."
   ]
  },
  {
   "cell_type": "code",
   "execution_count": null,
   "metadata": {},
   "outputs": [],
   "source": []
  }
 ],
 "metadata": {
  "anaconda-cloud": {},
  "kernel_info": {
   "name": "python3"
  },
  "kernelspec": {
   "display_name": "Python 3.9.12 ('base')",
   "language": "python",
   "name": "python3"
  },
  "language_info": {
   "codemirror_mode": {
    "name": "ipython",
    "version": 3
   },
   "file_extension": ".py",
   "mimetype": "text/x-python",
   "name": "python",
   "nbconvert_exporter": "python",
   "pygments_lexer": "ipython3",
   "version": "3.9.12"
  },
  "latex_envs": {
   "LaTeX_envs_menu_present": true,
   "autoclose": false,
   "autocomplete": true,
   "bibliofile": "biblio.bib",
   "cite_by": "apalike",
   "current_citInitial": 1,
   "eqLabelWithNumbers": true,
   "eqNumInitial": 1,
   "hotkeys": {
    "equation": "Ctrl-E",
    "itemize": "Ctrl-I"
   },
   "labels_anchors": false,
   "latex_user_defs": false,
   "report_style_numbering": false,
   "user_envs_cfg": false
  },
  "nteract": {
   "version": "0.12.3"
  },
  "vscode": {
   "interpreter": {
    "hash": "fd5f0602b361fcd80b6e43c9db32d5ff96b182a40640908c77b502a93aa9387e"
   }
  }
 },
 "nbformat": 4,
 "nbformat_minor": 2
}
