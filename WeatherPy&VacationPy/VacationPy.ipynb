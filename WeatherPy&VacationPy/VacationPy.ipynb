{
 "cells": [
  {
   "cell_type": "markdown",
   "metadata": {},
   "source": [
    "# VacationPy\n",
    "----\n",
    "\n",
    "#### Note\n",
    "* Keep an eye on your API usage. Use https://developers.google.com/maps/reporting/gmp-reporting as reference for how to monitor your usage and billing.\n",
    "\n",
    "* Instructions have been included for each segment. You do not have to follow them exactly, but they are included to help you think through the steps."
   ]
  },
  {
   "cell_type": "code",
   "execution_count": 6,
   "metadata": {},
   "outputs": [],
   "source": [
    "# Dependencies and Setup\n",
    "import matplotlib.pyplot as plt\n",
    "import pandas as pd\n",
    "import numpy as np\n",
    "import requests\n",
    "import gmaps\n",
    "import os\n",
    "\n",
    "# Import API key\n",
    "from api_keys import g_key\n",
    "gmaps.configure(api_key=g_key)"
   ]
  },
  {
   "cell_type": "markdown",
   "metadata": {},
   "source": [
    "### Store Part I results into DataFrame\n",
    "* Load the csv exported in Part I to a DataFrame"
   ]
  },
  {
   "cell_type": "code",
   "execution_count": 7,
   "metadata": {},
   "outputs": [
    {
     "data": {
      "text/html": [
       "<div>\n",
       "<style scoped>\n",
       "    .dataframe tbody tr th:only-of-type {\n",
       "        vertical-align: middle;\n",
       "    }\n",
       "\n",
       "    .dataframe tbody tr th {\n",
       "        vertical-align: top;\n",
       "    }\n",
       "\n",
       "    .dataframe thead th {\n",
       "        text-align: right;\n",
       "    }\n",
       "</style>\n",
       "<table border=\"1\" class=\"dataframe\">\n",
       "  <thead>\n",
       "    <tr style=\"text-align: right;\">\n",
       "      <th></th>\n",
       "      <th>Unnamed: 0</th>\n",
       "      <th>City</th>\n",
       "      <th>Lat</th>\n",
       "      <th>Lng</th>\n",
       "      <th>Max Temp</th>\n",
       "      <th>Humidity</th>\n",
       "      <th>Cloudiness</th>\n",
       "      <th>Wind Speed</th>\n",
       "      <th>Country</th>\n",
       "      <th>Date</th>\n",
       "    </tr>\n",
       "  </thead>\n",
       "  <tbody>\n",
       "    <tr>\n",
       "      <th>0</th>\n",
       "      <td>0</td>\n",
       "      <td>New Norfolk</td>\n",
       "      <td>-42.7826</td>\n",
       "      <td>147.0587</td>\n",
       "      <td>51.71</td>\n",
       "      <td>80</td>\n",
       "      <td>100</td>\n",
       "      <td>3.00</td>\n",
       "      <td>AU</td>\n",
       "      <td>1661885990</td>\n",
       "    </tr>\n",
       "    <tr>\n",
       "      <th>1</th>\n",
       "      <td>1</td>\n",
       "      <td>Constitución</td>\n",
       "      <td>-35.3333</td>\n",
       "      <td>-72.4167</td>\n",
       "      <td>57.47</td>\n",
       "      <td>71</td>\n",
       "      <td>68</td>\n",
       "      <td>7.90</td>\n",
       "      <td>CL</td>\n",
       "      <td>1661885991</td>\n",
       "    </tr>\n",
       "    <tr>\n",
       "      <th>2</th>\n",
       "      <td>2</td>\n",
       "      <td>Cherskiy</td>\n",
       "      <td>68.7500</td>\n",
       "      <td>161.3000</td>\n",
       "      <td>34.66</td>\n",
       "      <td>89</td>\n",
       "      <td>23</td>\n",
       "      <td>12.48</td>\n",
       "      <td>RU</td>\n",
       "      <td>1661885991</td>\n",
       "    </tr>\n",
       "    <tr>\n",
       "      <th>3</th>\n",
       "      <td>3</td>\n",
       "      <td>Ushuaia</td>\n",
       "      <td>-54.8000</td>\n",
       "      <td>-68.3000</td>\n",
       "      <td>49.66</td>\n",
       "      <td>57</td>\n",
       "      <td>75</td>\n",
       "      <td>5.75</td>\n",
       "      <td>AR</td>\n",
       "      <td>1661885992</td>\n",
       "    </tr>\n",
       "    <tr>\n",
       "      <th>4</th>\n",
       "      <td>4</td>\n",
       "      <td>Baní</td>\n",
       "      <td>18.2833</td>\n",
       "      <td>-70.3333</td>\n",
       "      <td>90.84</td>\n",
       "      <td>55</td>\n",
       "      <td>99</td>\n",
       "      <td>12.30</td>\n",
       "      <td>DO</td>\n",
       "      <td>1661885992</td>\n",
       "    </tr>\n",
       "  </tbody>\n",
       "</table>\n",
       "</div>"
      ],
      "text/plain": [
       "   Unnamed: 0          City      Lat       Lng  Max Temp  Humidity  \\\n",
       "0           0   New Norfolk -42.7826  147.0587     51.71        80   \n",
       "1           1  Constitución -35.3333  -72.4167     57.47        71   \n",
       "2           2      Cherskiy  68.7500  161.3000     34.66        89   \n",
       "3           3       Ushuaia -54.8000  -68.3000     49.66        57   \n",
       "4           4          Baní  18.2833  -70.3333     90.84        55   \n",
       "\n",
       "   Cloudiness  Wind Speed Country        Date  \n",
       "0         100        3.00      AU  1661885990  \n",
       "1          68        7.90      CL  1661885991  \n",
       "2          23       12.48      RU  1661885991  \n",
       "3          75        5.75      AR  1661885992  \n",
       "4          99       12.30      DO  1661885992  "
      ]
     },
     "execution_count": 7,
     "metadata": {},
     "output_type": "execute_result"
    }
   ],
   "source": [
    "weather_df = pd.read_csv(\"./city_weather.csv\")\n",
    "weather_df.head()"
   ]
  },
  {
   "cell_type": "code",
   "execution_count": 8,
   "metadata": {},
   "outputs": [
    {
     "data": {
      "text/plain": [
       "Unnamed: 0    591\n",
       "City          591\n",
       "Lat           591\n",
       "Lng           591\n",
       "Max Temp      591\n",
       "Humidity      591\n",
       "Cloudiness    591\n",
       "Wind Speed    591\n",
       "Country       585\n",
       "Date          591\n",
       "dtype: int64"
      ]
     },
     "execution_count": 8,
     "metadata": {},
     "output_type": "execute_result"
    }
   ],
   "source": [
    "weather_df.count()"
   ]
  },
  {
   "cell_type": "markdown",
   "metadata": {},
   "source": [
    "### Humidity Heatmap\n",
    "* Configure gmaps.\n",
    "* Use the Lat and Lng as locations and Humidity as the weight.\n",
    "* Add Heatmap layer to map."
   ]
  },
  {
   "cell_type": "code",
   "execution_count": 9,
   "metadata": {},
   "outputs": [
    {
     "data": {
      "application/vnd.jupyter.widget-view+json": {
       "model_id": "eed0b14154f544788a0e09d78961cf6a",
       "version_major": 2,
       "version_minor": 0
      },
      "text/plain": [
       "Figure(layout=FigureLayout(height='420px'))"
      ]
     },
     "metadata": {},
     "output_type": "display_data"
    }
   ],
   "source": [
    "heatmap_humidity = gmaps.figure(map_type=\"HYBRID\")\n",
    "max_int = weather_df[\"Humidity\"].max()\n",
    "heat_layer = gmaps.heatmap_layer(locations=weather_df[['Lat', 'Lng']], weights=weather_df['Humidity'].astype(float), dissipating=False,\n",
    "    max_intensity=max_int, point_radius=1)\n",
    "heatmap_humidity.add_layer(heat_layer)\n",
    "heatmap_humidity\n",
    "plt.savefig(\"./Images/Vacation-heatmap_humidity.png\")"
   ]
  },
  {
   "cell_type": "code",
   "execution_count": null,
   "metadata": {},
   "outputs": [],
   "source": []
  },
  {
   "cell_type": "markdown",
   "metadata": {},
   "source": [
    "### Create new DataFrame fitting weather criteria\n",
    "* Narrow down the cities to fit weather conditions.\n",
    "* Drop any rows will null values."
   ]
  },
  {
   "cell_type": "code",
   "execution_count": 10,
   "metadata": {},
   "outputs": [
    {
     "data": {
      "text/html": [
       "<div>\n",
       "<style scoped>\n",
       "    .dataframe tbody tr th:only-of-type {\n",
       "        vertical-align: middle;\n",
       "    }\n",
       "\n",
       "    .dataframe tbody tr th {\n",
       "        vertical-align: top;\n",
       "    }\n",
       "\n",
       "    .dataframe thead th {\n",
       "        text-align: right;\n",
       "    }\n",
       "</style>\n",
       "<table border=\"1\" class=\"dataframe\">\n",
       "  <thead>\n",
       "    <tr style=\"text-align: right;\">\n",
       "      <th></th>\n",
       "      <th>Unnamed: 0</th>\n",
       "      <th>City</th>\n",
       "      <th>Lat</th>\n",
       "      <th>Lng</th>\n",
       "      <th>Max Temp</th>\n",
       "      <th>Humidity</th>\n",
       "      <th>Cloudiness</th>\n",
       "      <th>Wind Speed</th>\n",
       "      <th>Country</th>\n",
       "      <th>Date</th>\n",
       "    </tr>\n",
       "  </thead>\n",
       "  <tbody>\n",
       "    <tr>\n",
       "      <th>0</th>\n",
       "      <td>23</td>\n",
       "      <td>Pisco</td>\n",
       "      <td>-13.7000</td>\n",
       "      <td>-76.2167</td>\n",
       "      <td>64.45</td>\n",
       "      <td>68</td>\n",
       "      <td>40</td>\n",
       "      <td>9.22</td>\n",
       "      <td>PE</td>\n",
       "      <td>1661885702</td>\n",
       "    </tr>\n",
       "    <tr>\n",
       "      <th>1</th>\n",
       "      <td>264</td>\n",
       "      <td>Ampanihy</td>\n",
       "      <td>-24.7000</td>\n",
       "      <td>44.7500</td>\n",
       "      <td>65.62</td>\n",
       "      <td>81</td>\n",
       "      <td>47</td>\n",
       "      <td>8.79</td>\n",
       "      <td>MG</td>\n",
       "      <td>1661886096</td>\n",
       "    </tr>\n",
       "    <tr>\n",
       "      <th>2</th>\n",
       "      <td>265</td>\n",
       "      <td>Shebunino</td>\n",
       "      <td>46.4339</td>\n",
       "      <td>141.8603</td>\n",
       "      <td>62.74</td>\n",
       "      <td>91</td>\n",
       "      <td>24</td>\n",
       "      <td>4.23</td>\n",
       "      <td>RU</td>\n",
       "      <td>1661886097</td>\n",
       "    </tr>\n",
       "    <tr>\n",
       "      <th>3</th>\n",
       "      <td>355</td>\n",
       "      <td>Rohru</td>\n",
       "      <td>31.2167</td>\n",
       "      <td>77.7500</td>\n",
       "      <td>63.81</td>\n",
       "      <td>95</td>\n",
       "      <td>22</td>\n",
       "      <td>1.63</td>\n",
       "      <td>IN</td>\n",
       "      <td>1661886129</td>\n",
       "    </tr>\n",
       "    <tr>\n",
       "      <th>4</th>\n",
       "      <td>461</td>\n",
       "      <td>Manakara</td>\n",
       "      <td>-22.1333</td>\n",
       "      <td>48.0167</td>\n",
       "      <td>68.38</td>\n",
       "      <td>96</td>\n",
       "      <td>31</td>\n",
       "      <td>5.70</td>\n",
       "      <td>MG</td>\n",
       "      <td>1661886168</td>\n",
       "    </tr>\n",
       "  </tbody>\n",
       "</table>\n",
       "</div>"
      ],
      "text/plain": [
       "   Unnamed: 0       City      Lat       Lng  Max Temp  Humidity  Cloudiness  \\\n",
       "0          23      Pisco -13.7000  -76.2167     64.45        68          40   \n",
       "1         264   Ampanihy -24.7000   44.7500     65.62        81          47   \n",
       "2         265  Shebunino  46.4339  141.8603     62.74        91          24   \n",
       "3         355      Rohru  31.2167   77.7500     63.81        95          22   \n",
       "4         461   Manakara -22.1333   48.0167     68.38        96          31   \n",
       "\n",
       "   Wind Speed Country        Date  \n",
       "0        9.22      PE  1661885702  \n",
       "1        8.79      MG  1661886096  \n",
       "2        4.23      RU  1661886097  \n",
       "3        1.63      IN  1661886129  \n",
       "4        5.70      MG  1661886168  "
      ]
     },
     "execution_count": 10,
     "metadata": {},
     "output_type": "execute_result"
    }
   ],
   "source": [
    "# Weather conditions:\n",
    "# Max Temp: between 65 and 70 degrees\n",
    "# Wind Speed: 10 mph\n",
    "# Cloudiness: 40-50%\n",
    "perfect_weather = weather_df.loc[(weather_df[\"Max Temp\"] >=60)&\n",
    "    (weather_df[\"Max Temp\"]<=70)&\n",
    "    (weather_df[\"Wind Speed\"]<=10)&\n",
    "    (weather_df[\"Cloudiness\"]<=50)&\n",
    "    (weather_df[\"Cloudiness\"]>=20), :]\n",
    "perfect_weather.reset_index(drop=True, inplace=True)\n",
    "perfect_weather.head()"
   ]
  },
  {
   "cell_type": "code",
   "execution_count": 11,
   "metadata": {},
   "outputs": [
    {
     "data": {
      "text/plain": [
       "Unnamed: 0    9\n",
       "City          9\n",
       "Lat           9\n",
       "Lng           9\n",
       "Max Temp      9\n",
       "Humidity      9\n",
       "Cloudiness    9\n",
       "Wind Speed    9\n",
       "Country       9\n",
       "Date          9\n",
       "dtype: int64"
      ]
     },
     "execution_count": 11,
     "metadata": {},
     "output_type": "execute_result"
    }
   ],
   "source": [
    "perfect_weather.count()"
   ]
  },
  {
   "cell_type": "markdown",
   "metadata": {},
   "source": [
    "### Hotel Map\n",
    "* Store into variable named `hotel_df`.\n",
    "* Add a \"Hotel Name\" column to the DataFrame.\n",
    "* Set parameters to search for hotels with 5000 meters.\n",
    "* Hit the Google Places API for each city's coordinates.\n",
    "* Store the first Hotel result into the DataFrame.\n",
    "* Plot markers on top of the heatmap."
   ]
  },
  {
   "cell_type": "code",
   "execution_count": 12,
   "metadata": {},
   "outputs": [
    {
     "data": {
      "text/plain": [
       "Index(['Unnamed: 0', 'City', 'Lat', 'Lng', 'Max Temp', 'Humidity',\n",
       "       'Cloudiness', 'Wind Speed', 'Country', 'Date', 'Hotel Name'],\n",
       "      dtype='object')"
      ]
     },
     "execution_count": 12,
     "metadata": {},
     "output_type": "execute_result"
    }
   ],
   "source": [
    "hotel_df = perfect_weather.copy()\n",
    "hotel_df[\"Hotel Name\"]=\"\"\n",
    "hotel_df.columns"
   ]
  },
  {
   "cell_type": "code",
   "execution_count": 13,
   "metadata": {},
   "outputs": [
    {
     "name": "stderr",
     "output_type": "stream",
     "text": [
      "C:\\Users\\krist\\AppData\\Local\\Temp\\ipykernel_13012\\1839956463.py:13: SettingWithCopyWarning: \n",
      "A value is trying to be set on a copy of a slice from a DataFrame\n",
      "\n",
      "See the caveats in the documentation: https://pandas.pydata.org/pandas-docs/stable/user_guide/indexing.html#returning-a-view-versus-a-copy\n",
      "  hotel_df[\"Hotel Name\"][r] = response[\"results\"][0][\"name\"]\n"
     ]
    },
    {
     "ename": "IndexError",
     "evalue": "list index out of range",
     "output_type": "error",
     "traceback": [
      "\u001b[1;31m---------------------------------------------------------------------------\u001b[0m",
      "\u001b[1;31mIndexError\u001b[0m                                Traceback (most recent call last)",
      "\u001b[1;32mc:\\Users\\krist\\DataClass2\\python-api-challenge\\WeatherPy&VacationPy\\VacationPy.ipynb Cell 14\u001b[0m in \u001b[0;36m<cell line: 1>\u001b[1;34m()\u001b[0m\n\u001b[0;32m      <a href='vscode-notebook-cell:/c%3A/Users/krist/DataClass2/python-api-challenge/WeatherPy%26VacationPy/VacationPy.ipynb#ch0000013?line=4'>5</a>\u001b[0m     params \u001b[39m=\u001b[39m {\n\u001b[0;32m      <a href='vscode-notebook-cell:/c%3A/Users/krist/DataClass2/python-api-challenge/WeatherPy%26VacationPy/VacationPy.ipynb#ch0000013?line=5'>6</a>\u001b[0m         \u001b[39m\"\u001b[39m\u001b[39mlocation\u001b[39m\u001b[39m\"\u001b[39m: hotel_coord,\n\u001b[0;32m      <a href='vscode-notebook-cell:/c%3A/Users/krist/DataClass2/python-api-challenge/WeatherPy%26VacationPy/VacationPy.ipynb#ch0000013?line=6'>7</a>\u001b[0m         \u001b[39m\"\u001b[39m\u001b[39mkeyword\u001b[39m\u001b[39m\"\u001b[39m: \u001b[39m\"\u001b[39m\u001b[39mhotel\u001b[39m\u001b[39m\"\u001b[39m,\n\u001b[1;32m   (...)\u001b[0m\n\u001b[0;32m     <a href='vscode-notebook-cell:/c%3A/Users/krist/DataClass2/python-api-challenge/WeatherPy%26VacationPy/VacationPy.ipynb#ch0000013?line=9'>10</a>\u001b[0m         \u001b[39m\"\u001b[39m\u001b[39mkey\u001b[39m\u001b[39m\"\u001b[39m: g_key\n\u001b[0;32m     <a href='vscode-notebook-cell:/c%3A/Users/krist/DataClass2/python-api-challenge/WeatherPy%26VacationPy/VacationPy.ipynb#ch0000013?line=10'>11</a>\u001b[0m     }\n\u001b[0;32m     <a href='vscode-notebook-cell:/c%3A/Users/krist/DataClass2/python-api-challenge/WeatherPy%26VacationPy/VacationPy.ipynb#ch0000013?line=11'>12</a>\u001b[0m     response\u001b[39m=\u001b[39mrequests\u001b[39m.\u001b[39mget(\u001b[39m\"\u001b[39m\u001b[39mhttps://maps.googleapis.com/maps/api/place/nearbysearch/json\u001b[39m\u001b[39m\"\u001b[39m, params\u001b[39m=\u001b[39mparams)\u001b[39m.\u001b[39mjson()\n\u001b[1;32m---> <a href='vscode-notebook-cell:/c%3A/Users/krist/DataClass2/python-api-challenge/WeatherPy%26VacationPy/VacationPy.ipynb#ch0000013?line=12'>13</a>\u001b[0m     hotel_df[\u001b[39m\"\u001b[39m\u001b[39mHotel Name\u001b[39m\u001b[39m\"\u001b[39m][r] \u001b[39m=\u001b[39m response[\u001b[39m\"\u001b[39;49m\u001b[39mresults\u001b[39;49m\u001b[39m\"\u001b[39;49m][\u001b[39m0\u001b[39;49m][\u001b[39m\"\u001b[39m\u001b[39mname\u001b[39m\u001b[39m\"\u001b[39m]\n\u001b[0;32m     <a href='vscode-notebook-cell:/c%3A/Users/krist/DataClass2/python-api-challenge/WeatherPy%26VacationPy/VacationPy.ipynb#ch0000013?line=13'>14</a>\u001b[0m hotel_df\u001b[39m.\u001b[39mhead()\n",
      "\u001b[1;31mIndexError\u001b[0m: list index out of range"
     ]
    }
   ],
   "source": [
    "for r in range(0, len(hotel_df)):\n",
    "    h_lat = hotel_df[\"Lat\"][r]\n",
    "    h_lng = hotel_df[\"Lng\"][r]\n",
    "    hotel_coord = f\"{h_lat},{h_lng}\"\n",
    "    params = {\n",
    "        \"location\": hotel_coord,\n",
    "        \"keyword\": \"hotel\",\n",
    "        \"radius\": 5000,\n",
    "        \"type\": \"hotel\",\n",
    "        \"key\": g_key\n",
    "    }\n",
    "    response=requests.get(\"https://maps.googleapis.com/maps/api/place/nearbysearch/json\", params=params).json()\n",
    "    hotel_df[\"Hotel Name\"][r] = response[\"results\"][0][\"name\"]\n",
    "hotel_df.head()"
   ]
  },
  {
   "cell_type": "code",
   "execution_count": 14,
   "metadata": {},
   "outputs": [],
   "source": [
    "# NOTE: Do not change any of the code in this cell\n",
    "\n",
    "# Using the template add the hotel marks to the heatmap\n",
    "info_box_template = \"\"\"\n",
    "<dl>\n",
    "<dt>Name</dt><dd>{Hotel Name}</dd>\n",
    "<dt>City</dt><dd>{City}</dd>\n",
    "<dt>Country</dt><dd>{Country}</dd>\n",
    "</dl>\n",
    "\"\"\"\n",
    "# Store the DataFrame Row\n",
    "# NOTE: be sure to update with your DataFrame name\n",
    "hotel_info = [info_box_template.format(**row) for index, row in hotel_df.iterrows()]\n",
    "locations = hotel_df[[\"Lat\", \"Lng\"]]"
   ]
  },
  {
   "cell_type": "code",
   "execution_count": 18,
   "metadata": {},
   "outputs": [
    {
     "data": {
      "text/plain": [
       "<Figure size 432x288 with 0 Axes>"
      ]
     },
     "metadata": {},
     "output_type": "display_data"
    }
   ],
   "source": [
    "# Add marker layer ontop of heat map\n",
    "markers = gmaps.marker_layer(locations=locations)\n",
    "heatmap_humidity.add_layer(markers)\n",
    "# Display figure\n",
    "plt.savefig(\"./Images/Vacation-heatmap_humitiy_marker.png\")\n",
    "plt.show()"
   ]
  },
  {
   "cell_type": "code",
   "execution_count": null,
   "metadata": {},
   "outputs": [],
   "source": []
  }
 ],
 "metadata": {
  "kernelspec": {
   "display_name": "Python 3.9.12 ('base')",
   "language": "python",
   "name": "python3"
  },
  "language_info": {
   "codemirror_mode": {
    "name": "ipython",
    "version": 3
   },
   "file_extension": ".py",
   "mimetype": "text/x-python",
   "name": "python",
   "nbconvert_exporter": "python",
   "pygments_lexer": "ipython3",
   "version": "3.9.12"
  },
  "latex_envs": {
   "LaTeX_envs_menu_present": true,
   "autoclose": false,
   "autocomplete": true,
   "bibliofile": "biblio.bib",
   "cite_by": "apalike",
   "current_citInitial": 1,
   "eqLabelWithNumbers": true,
   "eqNumInitial": 1,
   "hotkeys": {
    "equation": "Ctrl-E",
    "itemize": "Ctrl-I"
   },
   "labels_anchors": false,
   "latex_user_defs": false,
   "report_style_numbering": false,
   "user_envs_cfg": false
  },
  "vscode": {
   "interpreter": {
    "hash": "fd5f0602b361fcd80b6e43c9db32d5ff96b182a40640908c77b502a93aa9387e"
   }
  }
 },
 "nbformat": 4,
 "nbformat_minor": 4
}
