{
 "cells": [
  {
   "cell_type": "markdown",
   "metadata": {},
   "source": [
    "# VacationPy\n",
    "----\n",
    "\n",
    "#### Note\n",
    "* Keep an eye on your API usage. Use https://developers.google.com/maps/reporting/gmp-reporting as reference for how to monitor your usage and billing.\n",
    "\n",
    "* Instructions have been included for each segment. You do not have to follow them exactly, but they are included to help you think through the steps."
   ]
  },
  {
   "cell_type": "code",
   "execution_count": 1,
   "metadata": {},
   "outputs": [],
   "source": [
    "# Dependencies and Setup\n",
    "import matplotlib.pyplot as plt\n",
    "import pandas as pd\n",
    "import numpy as np\n",
    "import requests\n",
    "import gmaps\n",
    "import os\n",
    "\n",
    "# Import API key\n",
    "from api_keys import g_key"
   ]
  },
  {
   "cell_type": "markdown",
   "metadata": {},
   "source": [
    "### Store Part I results into DataFrame\n",
    "* Load the csv exported in Part I to a DataFrame"
   ]
  },
  {
   "cell_type": "code",
   "execution_count": 2,
   "metadata": {},
   "outputs": [
    {
     "data": {
      "text/html": [
       "<div>\n",
       "<style scoped>\n",
       "    .dataframe tbody tr th:only-of-type {\n",
       "        vertical-align: middle;\n",
       "    }\n",
       "\n",
       "    .dataframe tbody tr th {\n",
       "        vertical-align: top;\n",
       "    }\n",
       "\n",
       "    .dataframe thead th {\n",
       "        text-align: right;\n",
       "    }\n",
       "</style>\n",
       "<table border=\"1\" class=\"dataframe\">\n",
       "  <thead>\n",
       "    <tr style=\"text-align: right;\">\n",
       "      <th></th>\n",
       "      <th>Unnamed: 0</th>\n",
       "      <th>City</th>\n",
       "      <th>Lat</th>\n",
       "      <th>Lng</th>\n",
       "      <th>Max Temp</th>\n",
       "      <th>Humidity</th>\n",
       "      <th>Cloudiness</th>\n",
       "      <th>Wind Speed</th>\n",
       "      <th>Country</th>\n",
       "      <th>Date</th>\n",
       "    </tr>\n",
       "  </thead>\n",
       "  <tbody>\n",
       "    <tr>\n",
       "      <th>0</th>\n",
       "      <td>0</td>\n",
       "      <td>Ushuaia</td>\n",
       "      <td>-54.8000</td>\n",
       "      <td>-68.3000</td>\n",
       "      <td>35.26</td>\n",
       "      <td>93</td>\n",
       "      <td>100</td>\n",
       "      <td>25.32</td>\n",
       "      <td>AR</td>\n",
       "      <td>1661406053</td>\n",
       "    </tr>\n",
       "    <tr>\n",
       "      <th>1</th>\n",
       "      <td>1</td>\n",
       "      <td>Kapaa</td>\n",
       "      <td>22.0752</td>\n",
       "      <td>-159.3190</td>\n",
       "      <td>82.38</td>\n",
       "      <td>83</td>\n",
       "      <td>100</td>\n",
       "      <td>8.05</td>\n",
       "      <td>US</td>\n",
       "      <td>1661406128</td>\n",
       "    </tr>\n",
       "    <tr>\n",
       "      <th>2</th>\n",
       "      <td>2</td>\n",
       "      <td>Quatre Cocos</td>\n",
       "      <td>-20.2078</td>\n",
       "      <td>57.7625</td>\n",
       "      <td>73.51</td>\n",
       "      <td>70</td>\n",
       "      <td>53</td>\n",
       "      <td>16.33</td>\n",
       "      <td>MU</td>\n",
       "      <td>1661406128</td>\n",
       "    </tr>\n",
       "    <tr>\n",
       "      <th>3</th>\n",
       "      <td>3</td>\n",
       "      <td>Rikitea</td>\n",
       "      <td>-23.1203</td>\n",
       "      <td>-134.9692</td>\n",
       "      <td>69.19</td>\n",
       "      <td>59</td>\n",
       "      <td>56</td>\n",
       "      <td>16.17</td>\n",
       "      <td>PF</td>\n",
       "      <td>1661406129</td>\n",
       "    </tr>\n",
       "    <tr>\n",
       "      <th>4</th>\n",
       "      <td>4</td>\n",
       "      <td>Nuuk</td>\n",
       "      <td>64.1835</td>\n",
       "      <td>-51.7216</td>\n",
       "      <td>45.21</td>\n",
       "      <td>87</td>\n",
       "      <td>75</td>\n",
       "      <td>24.16</td>\n",
       "      <td>GL</td>\n",
       "      <td>1661406129</td>\n",
       "    </tr>\n",
       "  </tbody>\n",
       "</table>\n",
       "</div>"
      ],
      "text/plain": [
       "   Unnamed: 0          City      Lat       Lng  Max Temp  Humidity  \\\n",
       "0           0       Ushuaia -54.8000  -68.3000     35.26        93   \n",
       "1           1         Kapaa  22.0752 -159.3190     82.38        83   \n",
       "2           2  Quatre Cocos -20.2078   57.7625     73.51        70   \n",
       "3           3       Rikitea -23.1203 -134.9692     69.19        59   \n",
       "4           4          Nuuk  64.1835  -51.7216     45.21        87   \n",
       "\n",
       "   Cloudiness  Wind Speed Country        Date  \n",
       "0         100       25.32      AR  1661406053  \n",
       "1         100        8.05      US  1661406128  \n",
       "2          53       16.33      MU  1661406128  \n",
       "3          56       16.17      PF  1661406129  \n",
       "4          75       24.16      GL  1661406129  "
      ]
     },
     "execution_count": 2,
     "metadata": {},
     "output_type": "execute_result"
    }
   ],
   "source": [
    "weather_df = pd.read_csv(\"./city_weather.csv\")\n",
    "weather_df.head()"
   ]
  },
  {
   "cell_type": "code",
   "execution_count": 7,
   "metadata": {},
   "outputs": [
    {
     "data": {
      "text/plain": [
       "Unnamed: 0    585\n",
       "City          585\n",
       "Lat           585\n",
       "Lng           585\n",
       "Max Temp      585\n",
       "Humidity      585\n",
       "Cloudiness    585\n",
       "Wind Speed    585\n",
       "Country       583\n",
       "Date          585\n",
       "dtype: int64"
      ]
     },
     "execution_count": 7,
     "metadata": {},
     "output_type": "execute_result"
    }
   ],
   "source": [
    "weather_df.count()"
   ]
  },
  {
   "cell_type": "markdown",
   "metadata": {},
   "source": [
    "### Humidity Heatmap\n",
    "* Configure gmaps.\n",
    "* Use the Lat and Lng as locations and Humidity as the weight.\n",
    "* Add Heatmap layer to map."
   ]
  },
  {
   "cell_type": "code",
   "execution_count": 38,
   "metadata": {},
   "outputs": [
    {
     "name": "stdout",
     "output_type": "stream",
     "text": [
      "100\n"
     ]
    },
    {
     "data": {
      "application/vnd.jupyter.widget-view+json": {
       "model_id": "62a24670a4b84ea585e22d2afece05d6",
       "version_major": 2,
       "version_minor": 0
      },
      "text/plain": [
       "Figure(layout=FigureLayout(height='420px'))"
      ]
     },
     "metadata": {},
     "output_type": "display_data"
    }
   ],
   "source": [
    "heatmap_humidity = gmaps.figure(map_type=\"HYBRID\")\n",
    "max_int = weather_df[\"Humidity\"].max()\n",
    "heat_layer = gmaps.heatmap_layer(locations=weather_df[['Lat', 'Lng']], weights=weather_df['Humidity'].astype(float), dissipating=False,\n",
    "    max_intensity=max_int, point_radius=1)\n",
    "heatmap_humidity.add_layer(heat_layer)\n",
    "heatmap_humidity"
   ]
  },
  {
   "cell_type": "code",
   "execution_count": null,
   "metadata": {},
   "outputs": [],
   "source": []
  },
  {
   "cell_type": "markdown",
   "metadata": {},
   "source": [
    "### Create new DataFrame fitting weather criteria\n",
    "* Narrow down the cities to fit weather conditions.\n",
    "* Drop any rows will null values."
   ]
  },
  {
   "cell_type": "code",
   "execution_count": 21,
   "metadata": {},
   "outputs": [
    {
     "data": {
      "text/html": [
       "<div>\n",
       "<style scoped>\n",
       "    .dataframe tbody tr th:only-of-type {\n",
       "        vertical-align: middle;\n",
       "    }\n",
       "\n",
       "    .dataframe tbody tr th {\n",
       "        vertical-align: top;\n",
       "    }\n",
       "\n",
       "    .dataframe thead th {\n",
       "        text-align: right;\n",
       "    }\n",
       "</style>\n",
       "<table border=\"1\" class=\"dataframe\">\n",
       "  <thead>\n",
       "    <tr style=\"text-align: right;\">\n",
       "      <th></th>\n",
       "      <th>Unnamed: 0</th>\n",
       "      <th>City</th>\n",
       "      <th>Lat</th>\n",
       "      <th>Lng</th>\n",
       "      <th>Max Temp</th>\n",
       "      <th>Humidity</th>\n",
       "      <th>Cloudiness</th>\n",
       "      <th>Wind Speed</th>\n",
       "      <th>Country</th>\n",
       "      <th>Date</th>\n",
       "    </tr>\n",
       "  </thead>\n",
       "  <tbody>\n",
       "    <tr>\n",
       "      <th>0</th>\n",
       "      <td>140</td>\n",
       "      <td>Caravelas</td>\n",
       "      <td>-17.7125</td>\n",
       "      <td>-39.2481</td>\n",
       "      <td>67.39</td>\n",
       "      <td>92</td>\n",
       "      <td>21</td>\n",
       "      <td>5.08</td>\n",
       "      <td>BR</td>\n",
       "      <td>1661406189</td>\n",
       "    </tr>\n",
       "    <tr>\n",
       "      <th>1</th>\n",
       "      <td>173</td>\n",
       "      <td>Camacha</td>\n",
       "      <td>33.0833</td>\n",
       "      <td>-16.3333</td>\n",
       "      <td>67.42</td>\n",
       "      <td>83</td>\n",
       "      <td>40</td>\n",
       "      <td>9.22</td>\n",
       "      <td>PT</td>\n",
       "      <td>1661406205</td>\n",
       "    </tr>\n",
       "    <tr>\n",
       "      <th>2</th>\n",
       "      <td>227</td>\n",
       "      <td>Amapá</td>\n",
       "      <td>1.0000</td>\n",
       "      <td>-52.0000</td>\n",
       "      <td>69.40</td>\n",
       "      <td>99</td>\n",
       "      <td>44</td>\n",
       "      <td>1.52</td>\n",
       "      <td>BR</td>\n",
       "      <td>1661406228</td>\n",
       "    </tr>\n",
       "    <tr>\n",
       "      <th>3</th>\n",
       "      <td>235</td>\n",
       "      <td>Maxixe</td>\n",
       "      <td>-23.8597</td>\n",
       "      <td>35.3472</td>\n",
       "      <td>64.22</td>\n",
       "      <td>94</td>\n",
       "      <td>20</td>\n",
       "      <td>0.00</td>\n",
       "      <td>MZ</td>\n",
       "      <td>1661406232</td>\n",
       "    </tr>\n",
       "    <tr>\n",
       "      <th>4</th>\n",
       "      <td>276</td>\n",
       "      <td>Ipirá</td>\n",
       "      <td>-12.1583</td>\n",
       "      <td>-39.7372</td>\n",
       "      <td>63.10</td>\n",
       "      <td>89</td>\n",
       "      <td>43</td>\n",
       "      <td>4.09</td>\n",
       "      <td>BR</td>\n",
       "      <td>1661406250</td>\n",
       "    </tr>\n",
       "  </tbody>\n",
       "</table>\n",
       "</div>"
      ],
      "text/plain": [
       "   Unnamed: 0       City      Lat      Lng  Max Temp  Humidity  Cloudiness  \\\n",
       "0         140  Caravelas -17.7125 -39.2481     67.39        92          21   \n",
       "1         173    Camacha  33.0833 -16.3333     67.42        83          40   \n",
       "2         227      Amapá   1.0000 -52.0000     69.40        99          44   \n",
       "3         235     Maxixe -23.8597  35.3472     64.22        94          20   \n",
       "4         276      Ipirá -12.1583 -39.7372     63.10        89          43   \n",
       "\n",
       "   Wind Speed Country        Date  \n",
       "0        5.08      BR  1661406189  \n",
       "1        9.22      PT  1661406205  \n",
       "2        1.52      BR  1661406228  \n",
       "3        0.00      MZ  1661406232  \n",
       "4        4.09      BR  1661406250  "
      ]
     },
     "execution_count": 21,
     "metadata": {},
     "output_type": "execute_result"
    }
   ],
   "source": [
    "# Weather conditions:\n",
    "# Max Temp: between 65 and 70 degrees\n",
    "# Wind Speed: 10 mph\n",
    "# Cloudiness: 40-50%\n",
    "perfect_weather = weather_df.loc[(weather_df[\"Max Temp\"] >=60)&\n",
    "    (weather_df[\"Max Temp\"]<=70)&\n",
    "    (weather_df[\"Wind Speed\"]<=10)&\n",
    "    (weather_df[\"Cloudiness\"]<=50)&\n",
    "    (weather_df[\"Cloudiness\"]>=20), :]\n",
    "perfect_weather.reset_index(drop=True, inplace=True)\n",
    "perfect_weather.head()"
   ]
  },
  {
   "cell_type": "code",
   "execution_count": 22,
   "metadata": {},
   "outputs": [
    {
     "data": {
      "text/plain": [
       "Unnamed: 0    16\n",
       "City          16\n",
       "Lat           16\n",
       "Lng           16\n",
       "Max Temp      16\n",
       "Humidity      16\n",
       "Cloudiness    16\n",
       "Wind Speed    16\n",
       "Country       16\n",
       "Date          16\n",
       "dtype: int64"
      ]
     },
     "execution_count": 22,
     "metadata": {},
     "output_type": "execute_result"
    }
   ],
   "source": [
    "perfect_weather.count()"
   ]
  },
  {
   "cell_type": "markdown",
   "metadata": {},
   "source": [
    "### Hotel Map\n",
    "* Store into variable named `hotel_df`.\n",
    "* Add a \"Hotel Name\" column to the DataFrame.\n",
    "* Set parameters to search for hotels with 5000 meters.\n",
    "* Hit the Google Places API for each city's coordinates.\n",
    "* Store the first Hotel result into the DataFrame.\n",
    "* Plot markers on top of the heatmap."
   ]
  },
  {
   "cell_type": "code",
   "execution_count": 23,
   "metadata": {},
   "outputs": [
    {
     "data": {
      "text/plain": [
       "Index(['Unnamed: 0', 'City', 'Lat', 'Lng', 'Max Temp', 'Humidity',\n",
       "       'Cloudiness', 'Wind Speed', 'Country', 'Date', 'Hotel Name'],\n",
       "      dtype='object')"
      ]
     },
     "execution_count": 23,
     "metadata": {},
     "output_type": "execute_result"
    }
   ],
   "source": [
    "hotel_df = perfect_weather.copy()\n",
    "hotel_df[\"Hotel Name\"]=\"\"\n",
    "hotel_df.columns"
   ]
  },
  {
   "cell_type": "code",
   "execution_count": 30,
   "metadata": {},
   "outputs": [
    {
     "name": "stderr",
     "output_type": "stream",
     "text": [
      "C:\\Users\\krist\\AppData\\Local\\Temp\\ipykernel_30840\\1839956463.py:13: SettingWithCopyWarning: \n",
      "A value is trying to be set on a copy of a slice from a DataFrame\n",
      "\n",
      "See the caveats in the documentation: https://pandas.pydata.org/pandas-docs/stable/user_guide/indexing.html#returning-a-view-versus-a-copy\n",
      "  hotel_df[\"Hotel Name\"][r] = response[\"results\"][0][\"name\"]\n"
     ]
    },
    {
     "ename": "IndexError",
     "evalue": "list index out of range",
     "output_type": "error",
     "traceback": [
      "\u001b[1;31m---------------------------------------------------------------------------\u001b[0m",
      "\u001b[1;31mIndexError\u001b[0m                                Traceback (most recent call last)",
      "\u001b[1;32mc:\\Users\\krist\\DataClass2\\python-api-challenge\\WeatherPy&VacationPy\\VacationPy.ipynb Cell 14\u001b[0m in \u001b[0;36m<cell line: 1>\u001b[1;34m()\u001b[0m\n\u001b[0;32m      <a href='vscode-notebook-cell:/c%3A/Users/krist/DataClass2/python-api-challenge/WeatherPy%26VacationPy/VacationPy.ipynb#ch0000011?line=4'>5</a>\u001b[0m     params \u001b[39m=\u001b[39m {\n\u001b[0;32m      <a href='vscode-notebook-cell:/c%3A/Users/krist/DataClass2/python-api-challenge/WeatherPy%26VacationPy/VacationPy.ipynb#ch0000011?line=5'>6</a>\u001b[0m         \u001b[39m\"\u001b[39m\u001b[39mlocation\u001b[39m\u001b[39m\"\u001b[39m: hotel_coord,\n\u001b[0;32m      <a href='vscode-notebook-cell:/c%3A/Users/krist/DataClass2/python-api-challenge/WeatherPy%26VacationPy/VacationPy.ipynb#ch0000011?line=6'>7</a>\u001b[0m         \u001b[39m\"\u001b[39m\u001b[39mkeyword\u001b[39m\u001b[39m\"\u001b[39m: \u001b[39m\"\u001b[39m\u001b[39mhotel\u001b[39m\u001b[39m\"\u001b[39m,\n\u001b[1;32m   (...)\u001b[0m\n\u001b[0;32m     <a href='vscode-notebook-cell:/c%3A/Users/krist/DataClass2/python-api-challenge/WeatherPy%26VacationPy/VacationPy.ipynb#ch0000011?line=9'>10</a>\u001b[0m         \u001b[39m\"\u001b[39m\u001b[39mkey\u001b[39m\u001b[39m\"\u001b[39m: g_key\n\u001b[0;32m     <a href='vscode-notebook-cell:/c%3A/Users/krist/DataClass2/python-api-challenge/WeatherPy%26VacationPy/VacationPy.ipynb#ch0000011?line=10'>11</a>\u001b[0m     }\n\u001b[0;32m     <a href='vscode-notebook-cell:/c%3A/Users/krist/DataClass2/python-api-challenge/WeatherPy%26VacationPy/VacationPy.ipynb#ch0000011?line=11'>12</a>\u001b[0m     response\u001b[39m=\u001b[39mrequests\u001b[39m.\u001b[39mget(\u001b[39m\"\u001b[39m\u001b[39mhttps://maps.googleapis.com/maps/api/place/nearbysearch/json\u001b[39m\u001b[39m\"\u001b[39m, params\u001b[39m=\u001b[39mparams)\u001b[39m.\u001b[39mjson()\n\u001b[1;32m---> <a href='vscode-notebook-cell:/c%3A/Users/krist/DataClass2/python-api-challenge/WeatherPy%26VacationPy/VacationPy.ipynb#ch0000011?line=12'>13</a>\u001b[0m     hotel_df[\u001b[39m\"\u001b[39m\u001b[39mHotel Name\u001b[39m\u001b[39m\"\u001b[39m][r] \u001b[39m=\u001b[39m response[\u001b[39m\"\u001b[39;49m\u001b[39mresults\u001b[39;49m\u001b[39m\"\u001b[39;49m][\u001b[39m0\u001b[39;49m][\u001b[39m\"\u001b[39m\u001b[39mname\u001b[39m\u001b[39m\"\u001b[39m]\n\u001b[0;32m     <a href='vscode-notebook-cell:/c%3A/Users/krist/DataClass2/python-api-challenge/WeatherPy%26VacationPy/VacationPy.ipynb#ch0000011?line=13'>14</a>\u001b[0m hotel_df\u001b[39m.\u001b[39mhead()\n",
      "\u001b[1;31mIndexError\u001b[0m: list index out of range"
     ]
    }
   ],
   "source": [
    "for r in range(0, len(hotel_df)):\n",
    "    h_lat = hotel_df[\"Lat\"][r]\n",
    "    h_lng = hotel_df[\"Lng\"][r]\n",
    "    hotel_coord = f\"{h_lat},{h_lng}\"\n",
    "    params = {\n",
    "        \"location\": hotel_coord,\n",
    "        \"keyword\": \"hotel\",\n",
    "        \"radius\": 5000,\n",
    "        \"type\": \"hotel\",\n",
    "        \"key\": g_key\n",
    "    }\n",
    "    response=requests.get(\"https://maps.googleapis.com/maps/api/place/nearbysearch/json\", params=params).json()\n",
    "    hotel_df[\"Hotel Name\"][r] = response[\"results\"][0][\"name\"]\n",
    "hotel_df.head()"
   ]
  },
  {
   "cell_type": "code",
   "execution_count": 34,
   "metadata": {},
   "outputs": [],
   "source": [
    "# NOTE: Do not change any of the code in this cell\n",
    "\n",
    "# Using the template add the hotel marks to the heatmap\n",
    "info_box_template = \"\"\"\n",
    "<dl>\n",
    "<dt>Name</dt><dd>{Hotel Name}</dd>\n",
    "<dt>City</dt><dd>{City}</dd>\n",
    "<dt>Country</dt><dd>{Country}</dd>\n",
    "</dl>\n",
    "\"\"\"\n",
    "# Store the DataFrame Row\n",
    "# NOTE: be sure to update with your DataFrame name\n",
    "hotel_info = [info_box_template.format(**row) for index, row in hotel_df.iterrows()]\n",
    "locations = hotel_df[[\"Lat\", \"Lng\"]]"
   ]
  },
  {
   "cell_type": "code",
   "execution_count": 35,
   "metadata": {},
   "outputs": [
    {
     "data": {
      "application/vnd.jupyter.widget-view+json": {
       "model_id": "6312651cdd2a49c39c777d283c5355a3",
       "version_major": 2,
       "version_minor": 0
      },
      "text/plain": [
       "Figure(layout=FigureLayout(height='420px'))"
      ]
     },
     "metadata": {},
     "output_type": "display_data"
    }
   ],
   "source": [
    "# Add marker layer ontop of heat map\n",
    "markers = gmaps.marker_layer(locations=locations)\n",
    "heatmap_humidity.add_layer(markers)\n",
    "# Display figure\n",
    "heatmap_humidity"
   ]
  },
  {
   "cell_type": "code",
   "execution_count": null,
   "metadata": {},
   "outputs": [],
   "source": []
  }
 ],
 "metadata": {
  "kernelspec": {
   "display_name": "Python 3.9.12 ('base')",
   "language": "python",
   "name": "python3"
  },
  "language_info": {
   "codemirror_mode": {
    "name": "ipython",
    "version": 3
   },
   "file_extension": ".py",
   "mimetype": "text/x-python",
   "name": "python",
   "nbconvert_exporter": "python",
   "pygments_lexer": "ipython3",
   "version": "3.9.12"
  },
  "latex_envs": {
   "LaTeX_envs_menu_present": true,
   "autoclose": false,
   "autocomplete": true,
   "bibliofile": "biblio.bib",
   "cite_by": "apalike",
   "current_citInitial": 1,
   "eqLabelWithNumbers": true,
   "eqNumInitial": 1,
   "hotkeys": {
    "equation": "Ctrl-E",
    "itemize": "Ctrl-I"
   },
   "labels_anchors": false,
   "latex_user_defs": false,
   "report_style_numbering": false,
   "user_envs_cfg": false
  },
  "vscode": {
   "interpreter": {
    "hash": "fd5f0602b361fcd80b6e43c9db32d5ff96b182a40640908c77b502a93aa9387e"
   }
  }
 },
 "nbformat": 4,
 "nbformat_minor": 4
}
